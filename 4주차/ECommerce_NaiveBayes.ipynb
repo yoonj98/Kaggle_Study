{
 "cells": [
  {
   "cell_type": "markdown",
   "metadata": {},
   "source": [
    "# 스터디 4주차 : Naive Bayes\n",
    "\n",
    "- [Kaggle : Women's E-Commerce Clothing Reviews](https://www.kaggle.com/nicapotato/womens-ecommerce-clothing-reviews)\n",
    "- [Kaggle Clone Coding Notebook](https://www.kaggle.com/burhanykiyakoglu/predicting-sentiment-from-clothing-reviews)"
   ]
  },
  {
   "cell_type": "code",
   "execution_count": 2,
   "metadata": {},
   "outputs": [
    {
     "data": {
      "text/html": [
       "        <script type=\"text/javascript\">\n",
       "        window.PlotlyConfig = {MathJaxConfig: 'local'};\n",
       "        if (window.MathJax) {MathJax.Hub.Config({SVG: {font: \"STIX-Web\"}});}\n",
       "        if (typeof require !== 'undefined') {\n",
       "        require.undef(\"plotly\");\n",
       "        requirejs.config({\n",
       "            paths: {\n",
       "                'plotly': ['https://cdn.plot.ly/plotly-latest.min']\n",
       "            }\n",
       "        });\n",
       "        require(['plotly'], function(Plotly) {\n",
       "            window._Plotly = Plotly;\n",
       "        });\n",
       "        }\n",
       "        </script>\n",
       "        "
      ]
     },
     "metadata": {},
     "output_type": "display_data"
    }
   ],
   "source": [
    "import pandas as pd\n",
    "import numpy as np\n",
    "import datetime as dt\n",
    "import seaborn as sns\n",
    "import matplotlib.pyplot as plt\n",
    "%matplotlib inline\n",
    "\n",
    "from sklearn.model_selection import train_test_split\n",
    "from sklearn.linear_model import LogisticRegression\n",
    "from sklearn.naive_bayes import MultinomialNB\n",
    "from sklearn.metrics import roc_curve, auc\n",
    "from sklearn.neural_network import MLPClassifier\n",
    "from sklearn.svm import SVC\n",
    "from sklearn.metrics import confusion_matrix\n",
    "import sklearn.metrics as mt\n",
    "\n",
    "from sklearn.feature_extraction.text import CountVectorizer\n",
    "from wordcloud import WordCloud\n",
    "\n",
    "import plotly.graph_objs as go\n",
    "from plotly import tools\n",
    "import plotly.offline as py\n",
    "py.init_notebook_mode(connected=True)\n",
    "\n",
    "import warnings\n",
    "warnings.filterwarnings('ignore')"
   ]
  },
  {
   "cell_type": "code",
   "execution_count": 3,
   "metadata": {},
   "outputs": [
    {
     "data": {
      "text/html": [
       "<div>\n",
       "<style scoped>\n",
       "    .dataframe tbody tr th:only-of-type {\n",
       "        vertical-align: middle;\n",
       "    }\n",
       "\n",
       "    .dataframe tbody tr th {\n",
       "        vertical-align: top;\n",
       "    }\n",
       "\n",
       "    .dataframe thead th {\n",
       "        text-align: right;\n",
       "    }\n",
       "</style>\n",
       "<table border=\"1\" class=\"dataframe\">\n",
       "  <thead>\n",
       "    <tr style=\"text-align: right;\">\n",
       "      <th></th>\n",
       "      <th>Unnamed: 0</th>\n",
       "      <th>Clothing ID</th>\n",
       "      <th>Age</th>\n",
       "      <th>Title</th>\n",
       "      <th>Review Text</th>\n",
       "      <th>Rating</th>\n",
       "      <th>Recommended IND</th>\n",
       "      <th>Positive Feedback Count</th>\n",
       "      <th>Division Name</th>\n",
       "      <th>Department Name</th>\n",
       "      <th>Class Name</th>\n",
       "    </tr>\n",
       "  </thead>\n",
       "  <tbody>\n",
       "    <tr>\n",
       "      <th>0</th>\n",
       "      <td>0</td>\n",
       "      <td>767</td>\n",
       "      <td>33</td>\n",
       "      <td>NaN</td>\n",
       "      <td>Absolutely wonderful - silky and sexy and comf...</td>\n",
       "      <td>4</td>\n",
       "      <td>1</td>\n",
       "      <td>0</td>\n",
       "      <td>Initmates</td>\n",
       "      <td>Intimate</td>\n",
       "      <td>Intimates</td>\n",
       "    </tr>\n",
       "    <tr>\n",
       "      <th>1</th>\n",
       "      <td>1</td>\n",
       "      <td>1080</td>\n",
       "      <td>34</td>\n",
       "      <td>NaN</td>\n",
       "      <td>Love this dress!  it's sooo pretty.  i happene...</td>\n",
       "      <td>5</td>\n",
       "      <td>1</td>\n",
       "      <td>4</td>\n",
       "      <td>General</td>\n",
       "      <td>Dresses</td>\n",
       "      <td>Dresses</td>\n",
       "    </tr>\n",
       "    <tr>\n",
       "      <th>2</th>\n",
       "      <td>2</td>\n",
       "      <td>1077</td>\n",
       "      <td>60</td>\n",
       "      <td>Some major design flaws</td>\n",
       "      <td>I had such high hopes for this dress and reall...</td>\n",
       "      <td>3</td>\n",
       "      <td>0</td>\n",
       "      <td>0</td>\n",
       "      <td>General</td>\n",
       "      <td>Dresses</td>\n",
       "      <td>Dresses</td>\n",
       "    </tr>\n",
       "    <tr>\n",
       "      <th>3</th>\n",
       "      <td>3</td>\n",
       "      <td>1049</td>\n",
       "      <td>50</td>\n",
       "      <td>My favorite buy!</td>\n",
       "      <td>I love, love, love this jumpsuit. it's fun, fl...</td>\n",
       "      <td>5</td>\n",
       "      <td>1</td>\n",
       "      <td>0</td>\n",
       "      <td>General Petite</td>\n",
       "      <td>Bottoms</td>\n",
       "      <td>Pants</td>\n",
       "    </tr>\n",
       "    <tr>\n",
       "      <th>4</th>\n",
       "      <td>4</td>\n",
       "      <td>847</td>\n",
       "      <td>47</td>\n",
       "      <td>Flattering shirt</td>\n",
       "      <td>This shirt is very flattering to all due to th...</td>\n",
       "      <td>5</td>\n",
       "      <td>1</td>\n",
       "      <td>6</td>\n",
       "      <td>General</td>\n",
       "      <td>Tops</td>\n",
       "      <td>Blouses</td>\n",
       "    </tr>\n",
       "  </tbody>\n",
       "</table>\n",
       "</div>"
      ],
      "text/plain": [
       "   Unnamed: 0  Clothing ID  Age                    Title  \\\n",
       "0           0          767   33                      NaN   \n",
       "1           1         1080   34                      NaN   \n",
       "2           2         1077   60  Some major design flaws   \n",
       "3           3         1049   50         My favorite buy!   \n",
       "4           4          847   47         Flattering shirt   \n",
       "\n",
       "                                         Review Text  Rating  Recommended IND  \\\n",
       "0  Absolutely wonderful - silky and sexy and comf...       4                1   \n",
       "1  Love this dress!  it's sooo pretty.  i happene...       5                1   \n",
       "2  I had such high hopes for this dress and reall...       3                0   \n",
       "3  I love, love, love this jumpsuit. it's fun, fl...       5                1   \n",
       "4  This shirt is very flattering to all due to th...       5                1   \n",
       "\n",
       "   Positive Feedback Count   Division Name Department Name Class Name  \n",
       "0                        0       Initmates        Intimate  Intimates  \n",
       "1                        4         General         Dresses    Dresses  \n",
       "2                        0         General         Dresses    Dresses  \n",
       "3                        0  General Petite         Bottoms      Pants  \n",
       "4                        6         General            Tops    Blouses  "
      ]
     },
     "execution_count": 3,
     "metadata": {},
     "output_type": "execute_result"
    }
   ],
   "source": [
    "df1 = pd.read_csv('Womens Clothing E-Commerce Reviews.csv')\n",
    "df = df1[['Review Text','Rating','Class Name','Age']]\n",
    "\n",
    "df1.head()"
   ]
  },
  {
   "cell_type": "markdown",
   "metadata": {},
   "source": [
    "---"
   ]
  },
  {
   "cell_type": "code",
   "execution_count": 4,
   "metadata": {},
   "outputs": [],
   "source": [
    "# 결측치 처리 - 공백 처리\n",
    "df['Review Text'] = df['Review Text'].fillna('')"
   ]
  },
  {
   "cell_type": "markdown",
   "metadata": {},
   "source": [
    "#### 단어 빈도 변수 생성"
   ]
  },
  {
   "cell_type": "code",
   "execution_count": 5,
   "metadata": {},
   "outputs": [],
   "source": [
    "# CountVectorizer() converts a collection \n",
    "# of text documents to a matrix of token counts\n",
    "vectorizer = CountVectorizer()\n",
    "\n",
    "# assign a shorter name for the analyze\n",
    "# which tokenizes the string\n",
    "analyzer = vectorizer.build_analyzer()\n",
    "\n",
    "def wordcounts(s):\n",
    "    c = {}\n",
    "    # tokenize the string and continue, if it is not empty\n",
    "    if analyzer(s):\n",
    "        d = {}\n",
    "        # find counts of the vocabularies and transform to array \n",
    "        w = vectorizer.fit_transform([s]).toarray()\n",
    "        # vocabulary and index (index of w)\n",
    "        vc = vectorizer.vocabulary_\n",
    "        # items() transforms the dictionary's (word, index) tuple pairs\n",
    "        for k,v in vc.items():\n",
    "            d[v]=k # d -> index:word \n",
    "        for index,i in enumerate(w[0]):\n",
    "            c[d[index]] = i # c -> word:count\n",
    "    return  c"
   ]
  },
  {
   "cell_type": "code",
   "execution_count": 6,
   "metadata": {},
   "outputs": [
    {
     "data": {
      "text/html": [
       "<div>\n",
       "<style scoped>\n",
       "    .dataframe tbody tr th:only-of-type {\n",
       "        vertical-align: middle;\n",
       "    }\n",
       "\n",
       "    .dataframe tbody tr th {\n",
       "        vertical-align: top;\n",
       "    }\n",
       "\n",
       "    .dataframe thead th {\n",
       "        text-align: right;\n",
       "    }\n",
       "</style>\n",
       "<table border=\"1\" class=\"dataframe\">\n",
       "  <thead>\n",
       "    <tr style=\"text-align: right;\">\n",
       "      <th></th>\n",
       "      <th>Review Text</th>\n",
       "      <th>Rating</th>\n",
       "      <th>Class Name</th>\n",
       "      <th>Age</th>\n",
       "      <th>Word Counts</th>\n",
       "    </tr>\n",
       "  </thead>\n",
       "  <tbody>\n",
       "    <tr>\n",
       "      <th>0</th>\n",
       "      <td>Absolutely wonderful - silky and sexy and comf...</td>\n",
       "      <td>4</td>\n",
       "      <td>Intimates</td>\n",
       "      <td>33</td>\n",
       "      <td>{'absolutely': 1, 'and': 2, 'comfortable': 1, ...</td>\n",
       "    </tr>\n",
       "    <tr>\n",
       "      <th>1</th>\n",
       "      <td>Love this dress!  it's sooo pretty.  i happene...</td>\n",
       "      <td>5</td>\n",
       "      <td>Dresses</td>\n",
       "      <td>34</td>\n",
       "      <td>{'am': 1, 'and': 2, 'bc': 2, 'be': 1, 'below':...</td>\n",
       "    </tr>\n",
       "    <tr>\n",
       "      <th>2</th>\n",
       "      <td>I had such high hopes for this dress and reall...</td>\n",
       "      <td>3</td>\n",
       "      <td>Dresses</td>\n",
       "      <td>60</td>\n",
       "      <td>{'and': 3, 'be': 1, 'bottom': 1, 'but': 2, 'ch...</td>\n",
       "    </tr>\n",
       "    <tr>\n",
       "      <th>3</th>\n",
       "      <td>I love, love, love this jumpsuit. it's fun, fl...</td>\n",
       "      <td>5</td>\n",
       "      <td>Pants</td>\n",
       "      <td>50</td>\n",
       "      <td>{'and': 1, 'but': 1, 'compliments': 1, 'every'...</td>\n",
       "    </tr>\n",
       "    <tr>\n",
       "      <th>4</th>\n",
       "      <td>This shirt is very flattering to all due to th...</td>\n",
       "      <td>5</td>\n",
       "      <td>Blouses</td>\n",
       "      <td>47</td>\n",
       "      <td>{'adjustable': 1, 'all': 1, 'and': 1, 'any': 1...</td>\n",
       "    </tr>\n",
       "  </tbody>\n",
       "</table>\n",
       "</div>"
      ],
      "text/plain": [
       "                                         Review Text  Rating Class Name  Age  \\\n",
       "0  Absolutely wonderful - silky and sexy and comf...       4  Intimates   33   \n",
       "1  Love this dress!  it's sooo pretty.  i happene...       5    Dresses   34   \n",
       "2  I had such high hopes for this dress and reall...       3    Dresses   60   \n",
       "3  I love, love, love this jumpsuit. it's fun, fl...       5      Pants   50   \n",
       "4  This shirt is very flattering to all due to th...       5    Blouses   47   \n",
       "\n",
       "                                         Word Counts  \n",
       "0  {'absolutely': 1, 'and': 2, 'comfortable': 1, ...  \n",
       "1  {'am': 1, 'and': 2, 'bc': 2, 'be': 1, 'below':...  \n",
       "2  {'and': 3, 'be': 1, 'bottom': 1, 'but': 2, 'ch...  \n",
       "3  {'and': 1, 'but': 1, 'compliments': 1, 'every'...  \n",
       "4  {'adjustable': 1, 'all': 1, 'and': 1, 'any': 1...  "
      ]
     },
     "execution_count": 6,
     "metadata": {},
     "output_type": "execute_result"
    }
   ],
   "source": [
    "# add new column to the dataframe\n",
    "df['Word Counts'] = df['Review Text'].apply(wordcounts)\n",
    "df.head()"
   ]
  },
  {
   "cell_type": "markdown",
   "metadata": {},
   "source": [
    "---\n",
    "#### Word와 Class Name을 통한 빈도 분석"
   ]
  },
  {
   "cell_type": "code",
   "execution_count": 7,
   "metadata": {},
   "outputs": [
    {
     "name": "stdout",
     "output_type": "stream",
     "text": [
      "Selected Words\n",
      "love     8951\n",
      "great    6117\n",
      "super    1726\n",
      "happy     705\n",
      "glad      614\n",
      "dtype: int64\n",
      "\n",
      "Class Names\n",
      "Dresses     6319\n",
      "Knits       4843\n",
      "Blouses     3097\n",
      "Sweaters    1428\n",
      "Pants       1388\n",
      "Name: Class Name, dtype: int64\n"
     ]
    }
   ],
   "source": [
    "# selecting some words to examine detailed  - 감정표현 단어들\n",
    "selectedwords = ['awesome','great','fantastic','extraordinary','amazing','super',\n",
    "                 'magnificent','stunning','impressive','wonderful','breathtaking',\n",
    "                 'love','content','pleased','happy','glad','satisfied','lucky',\n",
    "                 'shocking','cheerful','wow','sad','unhappy','horrible','regret',\n",
    "                 'bad','terrible','annoyed','disappointed','upset','awful','hate']\n",
    "\n",
    "def selectedcount(dic,word):\n",
    "    if word in dic:\n",
    "        return dic[word]\n",
    "    else:\n",
    "        return 0\n",
    "    \n",
    "dfwc = df.copy()  \n",
    "for word in selectedwords:\n",
    "    dfwc[word] = dfwc['Word Counts'].apply(selectedcount,args=(word,))\n",
    "    \n",
    "word_sum = dfwc[selectedwords].sum()\n",
    "print('Selected Words')\n",
    "print(word_sum.sort_values(ascending=False).iloc[:5])\n",
    "\n",
    "print('\\nClass Names')\n",
    "print(df['Class Name'].fillna(\"Empty\").value_counts().iloc[:5])"
   ]
  },
  {
   "cell_type": "code",
   "execution_count": 8,
   "metadata": {},
   "outputs": [
    {
     "data": {
      "image/png": "[encoded data removed]",
      "text/plain": [
       "<Figure size 1440x720 with 2 Axes>"
      ]
     },
     "metadata": {
      "needs_background": "light"
     },
     "output_type": "display_data"
    },
    {
     "data": {
      "image/png": "[encoded data removed]",
      "text/plain": [
       "<Figure size 1296x432 with 1 Axes>"
      ]
     },
     "metadata": {
      "needs_background": "light"
     },
     "output_type": "display_data"
    }
   ],
   "source": [
    "fig, ax = plt.subplots(1,2,figsize=(20,10))\n",
    "wc0 = WordCloud(background_color='white',\n",
    "                      width=450,\n",
    "                      height=400 ).generate_from_frequencies(word_sum)\n",
    "\n",
    "cn = df['Class Name'].fillna(\" \").value_counts()\n",
    "wc1 = WordCloud(background_color='white',\n",
    "                      width=450,\n",
    "                      height=400 \n",
    "                     ).generate_from_frequencies(cn)\n",
    "\n",
    "ax[0].imshow(wc0)\n",
    "ax[0].set_title('Selected Words\\n',size=25)\n",
    "ax[0].axis('off')\n",
    "\n",
    "ax[1].imshow(wc1)\n",
    "ax[1].set_title('Class Names\\n',size=25)\n",
    "ax[1].axis('off')\n",
    "\n",
    "rt = df['Review Text']\n",
    "plt.subplots(figsize=(18,6))\n",
    "wordcloud = WordCloud(background_color='white',\n",
    "                      width=900,\n",
    "                      height=300\n",
    "                     ).generate(\" \".join(rt))\n",
    "plt.imshow(wordcloud)\n",
    "plt.title('All Words in the Reviews\\n',size=25)\n",
    "plt.axis('off')\n",
    "plt.show()"
   ]
  },
  {
   "cell_type": "markdown",
   "metadata": {},
   "source": [
    "    Word 빈도분석 : love, great, super와 같은 긍정적인 단어 많이 사용됨\n",
    "    Class Name 빈도분석 : dresses, blouses, knites를 선호하는 편"
   ]
  },
  {
   "cell_type": "markdown",
   "metadata": {},
   "source": [
    "#### Rating, Class Name, Age 변수 간의 관계"
   ]
  },
  {
   "cell_type": "code",
   "execution_count": 9,
   "metadata": {},
   "outputs": [],
   "source": [
    "df1=df['Rating'].value_counts().to_frame()\n",
    "avgdf1 = df.groupby('Class Name').agg({'Rating': np.average})\n",
    "avgdf2 = df.groupby('Class Name').agg({'Age': np.average})\n",
    "avgdf3 = df.groupby('Rating').agg({'Age': np.average})\n",
    "\n",
    "trace1 = go.Bar(   #plotly 라이브러리에서 bar plot 그리는 함수\n",
    "    x=avgdf1.index,\n",
    "    y=round(avgdf1['Rating'],2),\n",
    "    marker=dict(\n",
    "        color=avgdf1['Rating'],\n",
    "        colorscale = 'RdBu')\n",
    ")\n",
    "\n",
    "trace2 = go.Bar(\n",
    "    x=df1.index,\n",
    "    y=df1.Rating,\n",
    "    marker=dict(\n",
    "        color=df1['Rating'],\n",
    "        colorscale = 'RdBu')\n",
    ")\n",
    "\n",
    "trace3 = go.Bar(\n",
    "    x=avgdf2.index,\n",
    "    y=round(avgdf2['Age'],2),\n",
    "    marker=dict(\n",
    "        color=avgdf2['Age'],\n",
    "        colorscale = 'RdBu')\n",
    ")\n",
    "\n",
    "trace4 = go.Bar(\n",
    "    x=avgdf3.index,\n",
    "    y=round(avgdf3['Age'],2),\n",
    "    marker=dict(\n",
    "        color=avgdf3['Age'],\n",
    "        colorscale = 'Reds')\n",
    ")"
   ]
  },
  {
   "cell_type": "code",
   "execution_count": 10,
   "metadata": {},
   "outputs": [
    {
     "data": {
      "application/vnd.plotly.v1+json": {
       "config": {
        "linkText": "Export to plot.ly",
        "plotlyServerURL": "https://plot.ly",
        "showLink": false
       },
       "data": [
        {
         "marker": {
          "color": [
           4.154020019373587,
           4.5,
           4,
           4.150815002373793,
           4.260909090909091,
           4.279220779220779,
           4.295454545454546,
           4.360941586748038,
           4.161676646706587,
           4.376712328767123,
           4.278787878787878,
           4.301013024602026,
           4.198170731707317,
           4.265850144092219,
           4.255520504731861,
           4.245502645502645,
           4.285087719298246,
           4.179271708683474,
           4.1971428571428575,
           3.8151260504201683
          ],
          "colorscale": [
           [
            0,
            "rgb(103,0,31)"
           ],
           [
            0.1,
            "rgb(178,24,43)"
           ],
           [
            0.2,
            "rgb(214,96,77)"
           ],
           [
            0.3,
            "rgb(244,165,130)"
           ],
           [
            0.4,
            "rgb(253,219,199)"
           ],
           [
            0.5,
            "rgb(247,247,247)"
           ],
           [
            0.6,
            "rgb(209,229,240)"
           ],
           [
            0.7,
            "rgb(146,197,222)"
           ],
           [
            0.8,
            "rgb(67,147,195)"
           ],
           [
            0.9,
            "rgb(33,102,172)"
           ],
           [
            1,
            "rgb(5,48,97)"
           ]
          ]
         },
         "type": "bar",
         "x": [
          "Blouses",
          "Casual bottoms",
          "Chemises",
          "Dresses",
          "Fine gauge",
          "Intimates",
          "Jackets",
          "Jeans",
          "Knits",
          "Layering",
          "Legwear",
          "Lounge",
          "Outerwear",
          "Pants",
          "Shorts",
          "Skirts",
          "Sleep",
          "Sweaters",
          "Swim",
          "Trend"
         ],
         "xaxis": "x",
         "y": [
          4.15,
          4.5,
          4,
          4.15,
          4.26,
          4.28,
          4.3,
          4.36,
          4.16,
          4.38,
          4.28,
          4.3,
          4.2,
          4.27,
          4.26,
          4.25,
          4.29,
          4.18,
          4.2,
          3.82
         ],
         "yaxis": "y"
        },
        {
         "marker": {
          "color": [
           13131,
           5077,
           2871,
           1565,
           842
          ],
          "colorscale": [
           [
            0,
            "rgb(103,0,31)"
           ],
           [
            0.1,
            "rgb(178,24,43)"
           ],
           [
            0.2,
            "rgb(214,96,77)"
           ],
           [
            0.3,
            "rgb(244,165,130)"
           ],
           [
            0.4,
            "rgb(253,219,199)"
           ],
           [
            0.5,
            "rgb(247,247,247)"
           ],
           [
            0.6,
            "rgb(209,229,240)"
           ],
           [
            0.7,
            "rgb(146,197,222)"
           ],
           [
            0.8,
            "rgb(67,147,195)"
           ],
           [
            0.9,
            "rgb(33,102,172)"
           ],
           [
            1,
            "rgb(5,48,97)"
           ]
          ]
         },
         "type": "bar",
         "x": [
          5,
          4,
          3,
          2,
          1
         ],
         "xaxis": "x2",
         "y": [
          13131,
          5077,
          2871,
          1565,
          842
         ],
         "yaxis": "y2"
        },
        {
         "marker": {
          "color": [
           44.252502421698416,
           26.5,
           38,
           42.11489159677164,
           44.730909090909094,
           39.15584415584416,
           43.81392045454545,
           43.115954664341764,
           43.63080735081561,
           41.52739726027397,
           41.54545454545455,
           42.7178002894356,
           44.28658536585366,
           44.04755043227666,
           40.72870662460568,
           42.492063492063494,
           43.10087719298246,
           45.06442577030813,
           38.04857142857143,
           44.05882352941177
          ],
          "colorscale": [
           [
            0,
            "rgb(103,0,31)"
           ],
           [
            0.1,
            "rgb(178,24,43)"
           ],
           [
            0.2,
            "rgb(214,96,77)"
           ],
           [
            0.3,
            "rgb(244,165,130)"
           ],
           [
            0.4,
            "rgb(253,219,199)"
           ],
           [
            0.5,
            "rgb(247,247,247)"
           ],
           [
            0.6,
            "rgb(209,229,240)"
           ],
           [
            0.7,
            "rgb(146,197,222)"
           ],
           [
            0.8,
            "rgb(67,147,195)"
           ],
           [
            0.9,
            "rgb(33,102,172)"
           ],
           [
            1,
            "rgb(5,48,97)"
           ]
          ]
         },
         "type": "bar",
         "x": [
          "Blouses",
          "Casual bottoms",
          "Chemises",
          "Dresses",
          "Fine gauge",
          "Intimates",
          "Jackets",
          "Jeans",
          "Knits",
          "Layering",
          "Legwear",
          "Lounge",
          "Outerwear",
          "Pants",
          "Shorts",
          "Skirts",
          "Sleep",
          "Sweaters",
          "Swim",
          "Trend"
         ],
         "xaxis": "x3",
         "y": [
          44.25,
          26.5,
          38,
          42.11,
          44.73,
          39.16,
          43.81,
          43.12,
          43.63,
          41.53,
          41.55,
          42.72,
          44.29,
          44.05,
          40.73,
          42.49,
          43.1,
          45.06,
          38.05,
          44.06
         ],
         "yaxis": "y3"
        },
        {
         "marker": {
          "color": [
           43.69358669833729,
           42.6223642172524,
           42.15848136537792,
           42.887532007090805,
           43.583123905262354
          ],
          "colorscale": [
           [
            0,
            "rgb(255,245,240)"
           ],
           [
            0.125,
            "rgb(254,224,210)"
           ],
           [
            0.25,
            "rgb(252,187,161)"
           ],
           [
            0.375,
            "rgb(252,146,114)"
           ],
           [
            0.5,
            "rgb(251,106,74)"
           ],
           [
            0.625,
            "rgb(239,59,44)"
           ],
           [
            0.75,
            "rgb(203,24,29)"
           ],
           [
            0.875,
            "rgb(165,15,21)"
           ],
           [
            1,
            "rgb(103,0,13)"
           ]
          ]
         },
         "type": "bar",
         "x": [
          1,
          2,
          3,
          4,
          5
         ],
         "xaxis": "x4",
         "y": [
          43.69,
          42.62,
          42.16,
          42.89,
          43.58
         ],
         "yaxis": "y4"
        }
       ],
       "layout": {
        "height": 800,
        "paper_bgcolor": "rgba(0,0,0,0)",
        "plot_bgcolor": "rgba(0,0,0,0)",
        "showlegend": false,
        "template": {
         "data": {
          "bar": [
           {
            "error_x": {
             "color": "#2a3f5f"
            },
            "error_y": {
             "color": "#2a3f5f"
            },
            "marker": {
             "line": {
              "color": "#E5ECF6",
              "width": 0.5
             }
            },
            "type": "bar"
           }
          ],
          "barpolar": [
           {
            "marker": {
             "line": {
              "color": "#E5ECF6",
              "width": 0.5
             }
            },
            "type": "barpolar"
           }
          ],
          "carpet": [
           {
            "aaxis": {
             "endlinecolor": "#2a3f5f",
             "gridcolor": "white",
             "linecolor": "white",
             "minorgridcolor": "white",
             "startlinecolor": "#2a3f5f"
            },
            "baxis": {
             "endlinecolor": "#2a3f5f",
             "gridcolor": "white",
             "linecolor": "white",
             "minorgridcolor": "white",
             "startlinecolor": "#2a3f5f"
            },
            "type": "carpet"
           }
          ],
          "choropleth": [
           {
            "colorbar": {
             "outlinewidth": 0,
             "ticks": ""
            },
            "type": "choropleth"
           }
          ],
          "contour": [
           {
            "colorbar": {
             "outlinewidth": 0,
             "ticks": ""
            },
            "colorscale": [
             [
              0,
              "#0d0887"
             ],
             [
              0.1111111111111111,
              "#46039f"
             ],
             [
              0.2222222222222222,
              "#7201a8"
             ],
             [
              0.3333333333333333,
              "#9c179e"
             ],
             [
              0.4444444444444444,
              "#bd3786"
             ],
             [
              0.5555555555555556,
              "#d8576b"
             ],
             [
              0.6666666666666666,
              "#ed7953"
             ],
             [
              0.7777777777777778,
              "#fb9f3a"
             ],
             [
              0.8888888888888888,
              "#fdca26"
             ],
             [
              1,
              "#f0f921"
             ]
            ],
            "type": "contour"
           }
          ],
          "contourcarpet": [
           {
            "colorbar": {
             "outlinewidth": 0,
             "ticks": ""
            },
            "type": "contourcarpet"
           }
          ],
          "heatmap": [
           {
            "colorbar": {
             "outlinewidth": 0,
             "ticks": ""
            },
            "colorscale": [
             [
              0,
              "#0d0887"
             ],
             [
              0.1111111111111111,
              "#46039f"
             ],
             [
              0.2222222222222222,
              "#7201a8"
             ],
             [
              0.3333333333333333,
              "#9c179e"
             ],
             [
              0.4444444444444444,
              "#bd3786"
             ],
             [
              0.5555555555555556,
              "#d8576b"
             ],
             [
              0.6666666666666666,
              "#ed7953"
             ],
             [
              0.7777777777777778,
              "#fb9f3a"
             ],
             [
              0.8888888888888888,
              "#fdca26"
             ],
             [
              1,
              "#f0f921"
             ]
            ],
            "type": "heatmap"
           }
          ],
          "heatmapgl": [
           {
            "colorbar": {
             "outlinewidth": 0,
             "ticks": ""
            },
            "colorscale": [
             [
              0,
              "#0d0887"
             ],
             [
              0.1111111111111111,
              "#46039f"
             ],
             [
              0.2222222222222222,
              "#7201a8"
             ],
             [
              0.3333333333333333,
              "#9c179e"
             ],
             [
              0.4444444444444444,
              "#bd3786"
             ],
             [
              0.5555555555555556,
              "#d8576b"
             ],
             [
              0.6666666666666666,
              "#ed7953"
             ],
             [
              0.7777777777777778,
              "#fb9f3a"
             ],
             [
              0.8888888888888888,
              "#fdca26"
             ],
             [
              1,
              "#f0f921"
             ]
            ],
            "type": "heatmapgl"
           }
          ],
          "histogram": [
           {
            "marker": {
             "colorbar": {
              "outlinewidth": 0,
              "ticks": ""
             }
            },
            "type": "histogram"
           }
          ],
          "histogram2d": [
           {
            "colorbar": {
             "outlinewidth": 0,
             "ticks": ""
            },
            "colorscale": [
             [
              0,
              "#0d0887"
             ],
             [
              0.1111111111111111,
              "#46039f"
             ],
             [
              0.2222222222222222,
              "#7201a8"
             ],
             [
              0.3333333333333333,
              "#9c179e"
             ],
             [
              0.4444444444444444,
              "#bd3786"
             ],
             [
              0.5555555555555556,
              "#d8576b"
             ],
             [
              0.6666666666666666,
              "#ed7953"
             ],
             [
              0.7777777777777778,
              "#fb9f3a"
             ],
             [
              0.8888888888888888,
              "#fdca26"
             ],
             [
              1,
              "#f0f921"
             ]
            ],
            "type": "histogram2d"
           }
          ],
          "histogram2dcontour": [
           {
            "colorbar": {
             "outlinewidth": 0,
             "ticks": ""
            },
            "colorscale": [
             [
              0,
              "#0d0887"
             ],
             [
              0.1111111111111111,
              "#46039f"
             ],
             [
              0.2222222222222222,
              "#7201a8"
             ],
             [
              0.3333333333333333,
              "#9c179e"
             ],
             [
              0.4444444444444444,
              "#bd3786"
             ],
             [
              0.5555555555555556,
              "#d8576b"
             ],
             [
              0.6666666666666666,
              "#ed7953"
             ],
             [
              0.7777777777777778,
              "#fb9f3a"
             ],
             [
              0.8888888888888888,
              "#fdca26"
             ],
             [
              1,
              "#f0f921"
             ]
            ],
            "type": "histogram2dcontour"
           }
          ],
          "mesh3d": [
           {
            "colorbar": {
             "outlinewidth": 0,
             "ticks": ""
            },
            "type": "mesh3d"
           }
          ],
          "parcoords": [
           {
            "line": {
             "colorbar": {
              "outlinewidth": 0,
              "ticks": ""
             }
            },
            "type": "parcoords"
           }
          ],
          "pie": [
           {
            "automargin": true,
            "type": "pie"
           }
          ],
          "scatter": [
           {
            "marker": {
             "colorbar": {
              "outlinewidth": 0,
              "ticks": ""
             }
            },
            "type": "scatter"
           }
          ],
          "scatter3d": [
           {
            "line": {
             "colorbar": {
              "outlinewidth": 0,
              "ticks": ""
             }
            },
            "marker": {
             "colorbar": {
              "outlinewidth": 0,
              "ticks": ""
             }
            },
            "type": "scatter3d"
           }
          ],
          "scattercarpet": [
           {
            "marker": {
             "colorbar": {
              "outlinewidth": 0,
              "ticks": ""
             }
            },
            "type": "scattercarpet"
           }
          ],
          "scattergeo": [
           {
            "marker": {
             "colorbar": {
              "outlinewidth": 0,
              "ticks": ""
             }
            },
            "type": "scattergeo"
           }
          ],
          "scattergl": [
           {
            "marker": {
             "colorbar": {
              "outlinewidth": 0,
              "ticks": ""
             }
            },
            "type": "scattergl"
           }
          ],
          "scattermapbox": [
           {
            "marker": {
             "colorbar": {
              "outlinewidth": 0,
              "ticks": ""
             }
            },
            "type": "scattermapbox"
           }
          ],
          "scatterpolar": [
           {
            "marker": {
             "colorbar": {
              "outlinewidth": 0,
              "ticks": ""
             }
            },
            "type": "scatterpolar"
           }
          ],
          "scatterpolargl": [
           {
            "marker": {
             "colorbar": {
              "outlinewidth": 0,
              "ticks": ""
             }
            },
            "type": "scatterpolargl"
           }
          ],
          "scatterternary": [
           {
            "marker": {
             "colorbar": {
              "outlinewidth": 0,
              "ticks": ""
             }
            },
            "type": "scatterternary"
           }
          ],
          "surface": [
           {
            "colorbar": {
             "outlinewidth": 0,
             "ticks": ""
            },
            "colorscale": [
             [
              0,
              "#0d0887"
             ],
             [
              0.1111111111111111,
              "#46039f"
             ],
             [
              0.2222222222222222,
              "#7201a8"
             ],
             [
              0.3333333333333333,
              "#9c179e"
             ],
             [
              0.4444444444444444,
              "#bd3786"
             ],
             [
              0.5555555555555556,
              "#d8576b"
             ],
             [
              0.6666666666666666,
              "#ed7953"
             ],
             [
              0.7777777777777778,
              "#fb9f3a"
             ],
             [
              0.8888888888888888,
              "#fdca26"
             ],
             [
              1,
              "#f0f921"
             ]
            ],
            "type": "surface"
           }
          ],
          "table": [
           {
            "cells": {
             "fill": {
              "color": "#EBF0F8"
             },
             "line": {
              "color": "white"
             }
            },
            "header": {
             "fill": {
              "color": "#C8D4E3"
             },
             "line": {
              "color": "white"
             }
            },
            "type": "table"
           }
          ]
         },
         "layout": {
          "annotationdefaults": {
           "arrowcolor": "#2a3f5f",
           "arrowhead": 0,
           "arrowwidth": 1
          },
          "autotypenumbers": "strict",
          "coloraxis": {
           "colorbar": {
            "outlinewidth": 0,
            "ticks": ""
           }
          },
          "colorscale": {
           "diverging": [
            [
             0,
             "#8e0152"
            ],
            [
             0.1,
             "#c51b7d"
            ],
            [
             0.2,
             "#de77ae"
            ],
            [
             0.3,
             "#f1b6da"
            ],
            [
             0.4,
             "#fde0ef"
            ],
            [
             0.5,
             "#f7f7f7"
            ],
            [
             0.6,
             "#e6f5d0"
            ],
            [
             0.7,
             "#b8e186"
            ],
            [
             0.8,
             "#7fbc41"
            ],
            [
             0.9,
             "#4d9221"
            ],
            [
             1,
             "#276419"
            ]
           ],
           "sequential": [
            [
             0,
             "#0d0887"
            ],
            [
             0.1111111111111111,
             "#46039f"
            ],
            [
             0.2222222222222222,
             "#7201a8"
            ],
            [
             0.3333333333333333,
             "#9c179e"
            ],
            [
             0.4444444444444444,
             "#bd3786"
            ],
            [
             0.5555555555555556,
             "#d8576b"
            ],
            [
             0.6666666666666666,
             "#ed7953"
            ],
            [
             0.7777777777777778,
             "#fb9f3a"
            ],
            [
             0.8888888888888888,
             "#fdca26"
            ],
            [
             1,
             "#f0f921"
            ]
           ],
           "sequentialminus": [
            [
             0,
             "#0d0887"
            ],
            [
             0.1111111111111111,
             "#46039f"
            ],
            [
             0.2222222222222222,
             "#7201a8"
            ],
            [
             0.3333333333333333,
             "#9c179e"
            ],
            [
             0.4444444444444444,
             "#bd3786"
            ],
            [
             0.5555555555555556,
             "#d8576b"
            ],
            [
             0.6666666666666666,
             "#ed7953"
            ],
            [
             0.7777777777777778,
             "#fb9f3a"
            ],
            [
             0.8888888888888888,
             "#fdca26"
            ],
            [
             1,
             "#f0f921"
            ]
           ]
          },
          "colorway": [
           "#636efa",
           "#EF553B",
           "#00cc96",
           "#ab63fa",
           "#FFA15A",
           "#19d3f3",
           "#FF6692",
           "#B6E880",
           "#FF97FF",
           "#FECB52"
          ],
          "font": {
           "color": "#2a3f5f"
          },
          "geo": {
           "bgcolor": "white",
           "lakecolor": "white",
           "landcolor": "#E5ECF6",
           "showlakes": true,
           "showland": true,
           "subunitcolor": "white"
          },
          "hoverlabel": {
           "align": "left"
          },
          "hovermode": "closest",
          "mapbox": {
           "style": "light"
          },
          "paper_bgcolor": "white",
          "plot_bgcolor": "#E5ECF6",
          "polar": {
           "angularaxis": {
            "gridcolor": "white",
            "linecolor": "white",
            "ticks": ""
           },
           "bgcolor": "#E5ECF6",
           "radialaxis": {
            "gridcolor": "white",
            "linecolor": "white",
            "ticks": ""
           }
          },
          "scene": {
           "xaxis": {
            "backgroundcolor": "#E5ECF6",
            "gridcolor": "white",
            "gridwidth": 2,
            "linecolor": "white",
            "showbackground": true,
            "ticks": "",
            "zerolinecolor": "white"
           },
           "yaxis": {
            "backgroundcolor": "#E5ECF6",
            "gridcolor": "white",
            "gridwidth": 2,
            "linecolor": "white",
            "showbackground": true,
            "ticks": "",
            "zerolinecolor": "white"
           },
           "zaxis": {
            "backgroundcolor": "#E5ECF6",
            "gridcolor": "white",
            "gridwidth": 2,
            "linecolor": "white",
            "showbackground": true,
            "ticks": "",
            "zerolinecolor": "white"
           }
          },
          "shapedefaults": {
           "line": {
            "color": "#2a3f5f"
           }
          },
          "ternary": {
           "aaxis": {
            "gridcolor": "white",
            "linecolor": "white",
            "ticks": ""
           },
           "baxis": {
            "gridcolor": "white",
            "linecolor": "white",
            "ticks": ""
           },
           "bgcolor": "#E5ECF6",
           "caxis": {
            "gridcolor": "white",
            "linecolor": "white",
            "ticks": ""
           }
          },
          "title": {
           "x": 0.05
          },
          "xaxis": {
           "automargin": true,
           "gridcolor": "white",
           "linecolor": "white",
           "ticks": "",
           "title": {
            "standoff": 15
           },
           "zerolinecolor": "white",
           "zerolinewidth": 2
          },
          "yaxis": {
           "automargin": true,
           "gridcolor": "white",
           "linecolor": "white",
           "ticks": "",
           "title": {
            "standoff": 15
           },
           "zerolinecolor": "white",
           "zerolinewidth": 2
          }
         }
        },
        "width": 900,
        "xaxis": {
         "anchor": "y",
         "domain": [
          0,
          0.45
         ],
         "title": {
          "text": "Class"
         }
        },
        "xaxis2": {
         "anchor": "y2",
         "domain": [
          0.55,
          1
         ],
         "title": {
          "text": "Rating"
         }
        },
        "xaxis3": {
         "anchor": "y3",
         "domain": [
          0,
          0.45
         ],
         "title": {
          "text": "Class"
         }
        },
        "xaxis4": {
         "anchor": "y4",
         "domain": [
          0.55,
          1
         ],
         "title": {
          "text": "Rating"
         }
        },
        "yaxis": {
         "anchor": "x",
         "domain": [
          0.575,
          1
         ],
         "title": {
          "text": "Average Rating"
         }
        },
        "yaxis2": {
         "anchor": "x2",
         "domain": [
          0.575,
          1
         ],
         "title": {
          "text": "Count"
         }
        },
        "yaxis3": {
         "anchor": "x3",
         "domain": [
          0,
          0.425
         ],
         "title": {
          "text": "Average Age of the Reviewers"
         }
        },
        "yaxis4": {
         "anchor": "x4",
         "domain": [
          0,
          0.425
         ],
         "title": {
          "text": "Average Age of the Reviewers"
         }
        }
       }
      },
      "text/html": [
       "<div>                            <div id=\"e4043905-71ed-4317-a3e1-f33d4cb07b40\" class=\"plotly-graph-div\" style=\"height:800px; width:900px;\"></div>            <script type=\"text/javascript\">                require([\"plotly\"], function(Plotly) {                    window.PLOTLYENV=window.PLOTLYENV || {};                                    if (document.getElementById(\"e4043905-71ed-4317-a3e1-f33d4cb07b40\")) {                    Plotly.newPlot(                        \"e4043905-71ed-4317-a3e1-f33d4cb07b40\",                        [{\"marker\": {\"color\": [4.154020019373587, 4.5, 4.0, 4.150815002373793, 4.260909090909091, 4.279220779220779, 4.295454545454546, 4.360941586748038, 4.161676646706587, 4.376712328767123, 4.278787878787878, 4.301013024602026, 4.198170731707317, 4.265850144092219, 4.255520504731861, 4.245502645502645, 4.285087719298246, 4.179271708683474, 4.1971428571428575, 3.8151260504201683], \"colorscale\": [[0.0, \"rgb(103,0,31)\"], [0.1, \"rgb(178,24,43)\"], [0.2, \"rgb(214,96,77)\"], [0.3, \"rgb(244,165,130)\"], [0.4, \"rgb(253,219,199)\"], [0.5, \"rgb(247,247,247)\"], [0.6, \"rgb(209,229,240)\"], [0.7, \"rgb(146,197,222)\"], [0.8, \"rgb(67,147,195)\"], [0.9, \"rgb(33,102,172)\"], [1.0, \"rgb(5,48,97)\"]]}, \"type\": \"bar\", \"x\": [\"Blouses\", \"Casual bottoms\", \"Chemises\", \"Dresses\", \"Fine gauge\", \"Intimates\", \"Jackets\", \"Jeans\", \"Knits\", \"Layering\", \"Legwear\", \"Lounge\", \"Outerwear\", \"Pants\", \"Shorts\", \"Skirts\", \"Sleep\", \"Sweaters\", \"Swim\", \"Trend\"], \"xaxis\": \"x\", \"y\": [4.15, 4.5, 4.0, 4.15, 4.26, 4.28, 4.3, 4.36, 4.16, 4.38, 4.28, 4.3, 4.2, 4.27, 4.26, 4.25, 4.29, 4.18, 4.2, 3.82], \"yaxis\": \"y\"}, {\"marker\": {\"color\": [13131, 5077, 2871, 1565, 842], \"colorscale\": [[0.0, \"rgb(103,0,31)\"], [0.1, \"rgb(178,24,43)\"], [0.2, \"rgb(214,96,77)\"], [0.3, \"rgb(244,165,130)\"], [0.4, \"rgb(253,219,199)\"], [0.5, \"rgb(247,247,247)\"], [0.6, \"rgb(209,229,240)\"], [0.7, \"rgb(146,197,222)\"], [0.8, \"rgb(67,147,195)\"], [0.9, \"rgb(33,102,172)\"], [1.0, \"rgb(5,48,97)\"]]}, \"type\": \"bar\", \"x\": [5, 4, 3, 2, 1], \"xaxis\": \"x2\", \"y\": [13131, 5077, 2871, 1565, 842], \"yaxis\": \"y2\"}, {\"marker\": {\"color\": [44.252502421698416, 26.5, 38.0, 42.11489159677164, 44.730909090909094, 39.15584415584416, 43.81392045454545, 43.115954664341764, 43.63080735081561, 41.52739726027397, 41.54545454545455, 42.7178002894356, 44.28658536585366, 44.04755043227666, 40.72870662460568, 42.492063492063494, 43.10087719298246, 45.06442577030813, 38.04857142857143, 44.05882352941177], \"colorscale\": [[0.0, \"rgb(103,0,31)\"], [0.1, \"rgb(178,24,43)\"], [0.2, \"rgb(214,96,77)\"], [0.3, \"rgb(244,165,130)\"], [0.4, \"rgb(253,219,199)\"], [0.5, \"rgb(247,247,247)\"], [0.6, \"rgb(209,229,240)\"], [0.7, \"rgb(146,197,222)\"], [0.8, \"rgb(67,147,195)\"], [0.9, \"rgb(33,102,172)\"], [1.0, \"rgb(5,48,97)\"]]}, \"type\": \"bar\", \"x\": [\"Blouses\", \"Casual bottoms\", \"Chemises\", \"Dresses\", \"Fine gauge\", \"Intimates\", \"Jackets\", \"Jeans\", \"Knits\", \"Layering\", \"Legwear\", \"Lounge\", \"Outerwear\", \"Pants\", \"Shorts\", \"Skirts\", \"Sleep\", \"Sweaters\", \"Swim\", \"Trend\"], \"xaxis\": \"x3\", \"y\": [44.25, 26.5, 38.0, 42.11, 44.73, 39.16, 43.81, 43.12, 43.63, 41.53, 41.55, 42.72, 44.29, 44.05, 40.73, 42.49, 43.1, 45.06, 38.05, 44.06], \"yaxis\": \"y3\"}, {\"marker\": {\"color\": [43.69358669833729, 42.6223642172524, 42.15848136537792, 42.887532007090805, 43.583123905262354], \"colorscale\": [[0.0, \"rgb(255,245,240)\"], [0.125, \"rgb(254,224,210)\"], [0.25, \"rgb(252,187,161)\"], [0.375, \"rgb(252,146,114)\"], [0.5, \"rgb(251,106,74)\"], [0.625, \"rgb(239,59,44)\"], [0.75, \"rgb(203,24,29)\"], [0.875, \"rgb(165,15,21)\"], [1.0, \"rgb(103,0,13)\"]]}, \"type\": \"bar\", \"x\": [1, 2, 3, 4, 5], \"xaxis\": \"x4\", \"y\": [43.69, 42.62, 42.16, 42.89, 43.58], \"yaxis\": \"y4\"}],                        {\"height\": 800, \"paper_bgcolor\": \"rgba(0,0,0,0)\", \"plot_bgcolor\": \"rgba(0,0,0,0)\", \"showlegend\": false, \"template\": {\"data\": {\"bar\": [{\"error_x\": {\"color\": \"#2a3f5f\"}, \"error_y\": {\"color\": \"#2a3f5f\"}, \"marker\": {\"line\": {\"color\": \"#E5ECF6\", \"width\": 0.5}}, \"type\": \"bar\"}], \"barpolar\": [{\"marker\": {\"line\": {\"color\": \"#E5ECF6\", \"width\": 0.5}}, \"type\": \"barpolar\"}], \"carpet\": [{\"aaxis\": {\"endlinecolor\": \"#2a3f5f\", \"gridcolor\": \"white\", \"linecolor\": \"white\", \"minorgridcolor\": \"white\", \"startlinecolor\": \"#2a3f5f\"}, \"baxis\": {\"endlinecolor\": \"#2a3f5f\", \"gridcolor\": \"white\", \"linecolor\": \"white\", \"minorgridcolor\": \"white\", \"startlinecolor\": \"#2a3f5f\"}, \"type\": \"carpet\"}], \"choropleth\": [{\"colorbar\": {\"outlinewidth\": 0, \"ticks\": \"\"}, \"type\": \"choropleth\"}], \"contour\": [{\"colorbar\": {\"outlinewidth\": 0, \"ticks\": \"\"}, \"colorscale\": [[0.0, \"#0d0887\"], [0.1111111111111111, \"#46039f\"], [0.2222222222222222, \"#7201a8\"], [0.3333333333333333, \"#9c179e\"], [0.4444444444444444, \"#bd3786\"], [0.5555555555555556, \"#d8576b\"], [0.6666666666666666, \"#ed7953\"], [0.7777777777777778, \"#fb9f3a\"], [0.8888888888888888, \"#fdca26\"], [1.0, \"#f0f921\"]], \"type\": \"contour\"}], \"contourcarpet\": [{\"colorbar\": {\"outlinewidth\": 0, \"ticks\": \"\"}, \"type\": \"contourcarpet\"}], \"heatmap\": [{\"colorbar\": {\"outlinewidth\": 0, \"ticks\": \"\"}, \"colorscale\": [[0.0, \"#0d0887\"], [0.1111111111111111, \"#46039f\"], [0.2222222222222222, \"#7201a8\"], [0.3333333333333333, \"#9c179e\"], [0.4444444444444444, \"#bd3786\"], [0.5555555555555556, \"#d8576b\"], [0.6666666666666666, \"#ed7953\"], [0.7777777777777778, \"#fb9f3a\"], [0.8888888888888888, \"#fdca26\"], [1.0, \"#f0f921\"]], \"type\": \"heatmap\"}], \"heatmapgl\": [{\"colorbar\": {\"outlinewidth\": 0, \"ticks\": \"\"}, \"colorscale\": [[0.0, \"#0d0887\"], [0.1111111111111111, \"#46039f\"], [0.2222222222222222, \"#7201a8\"], [0.3333333333333333, \"#9c179e\"], [0.4444444444444444, \"#bd3786\"], [0.5555555555555556, \"#d8576b\"], [0.6666666666666666, \"#ed7953\"], [0.7777777777777778, \"#fb9f3a\"], [0.8888888888888888, \"#fdca26\"], [1.0, \"#f0f921\"]], \"type\": \"heatmapgl\"}], \"histogram\": [{\"marker\": {\"colorbar\": {\"outlinewidth\": 0, \"ticks\": \"\"}}, \"type\": \"histogram\"}], \"histogram2d\": [{\"colorbar\": {\"outlinewidth\": 0, \"ticks\": \"\"}, \"colorscale\": [[0.0, \"#0d0887\"], [0.1111111111111111, \"#46039f\"], [0.2222222222222222, \"#7201a8\"], [0.3333333333333333, \"#9c179e\"], [0.4444444444444444, \"#bd3786\"], [0.5555555555555556, \"#d8576b\"], [0.6666666666666666, \"#ed7953\"], [0.7777777777777778, \"#fb9f3a\"], [0.8888888888888888, \"#fdca26\"], [1.0, \"#f0f921\"]], \"type\": \"histogram2d\"}], \"histogram2dcontour\": [{\"colorbar\": {\"outlinewidth\": 0, \"ticks\": \"\"}, \"colorscale\": [[0.0, \"#0d0887\"], [0.1111111111111111, \"#46039f\"], [0.2222222222222222, \"#7201a8\"], [0.3333333333333333, \"#9c179e\"], [0.4444444444444444, \"#bd3786\"], [0.5555555555555556, \"#d8576b\"], [0.6666666666666666, \"#ed7953\"], [0.7777777777777778, \"#fb9f3a\"], [0.8888888888888888, \"#fdca26\"], [1.0, \"#f0f921\"]], \"type\": \"histogram2dcontour\"}], \"mesh3d\": [{\"colorbar\": {\"outlinewidth\": 0, \"ticks\": \"\"}, \"type\": \"mesh3d\"}], \"parcoords\": [{\"line\": {\"colorbar\": {\"outlinewidth\": 0, \"ticks\": \"\"}}, \"type\": \"parcoords\"}], \"pie\": [{\"automargin\": true, \"type\": \"pie\"}], \"scatter\": [{\"marker\": {\"colorbar\": {\"outlinewidth\": 0, \"ticks\": \"\"}}, \"type\": \"scatter\"}], \"scatter3d\": [{\"line\": {\"colorbar\": {\"outlinewidth\": 0, \"ticks\": \"\"}}, \"marker\": {\"colorbar\": {\"outlinewidth\": 0, \"ticks\": \"\"}}, \"type\": \"scatter3d\"}], \"scattercarpet\": [{\"marker\": {\"colorbar\": {\"outlinewidth\": 0, \"ticks\": \"\"}}, \"type\": \"scattercarpet\"}], \"scattergeo\": [{\"marker\": {\"colorbar\": {\"outlinewidth\": 0, \"ticks\": \"\"}}, \"type\": \"scattergeo\"}], \"scattergl\": [{\"marker\": {\"colorbar\": {\"outlinewidth\": 0, \"ticks\": \"\"}}, \"type\": \"scattergl\"}], \"scattermapbox\": [{\"marker\": {\"colorbar\": {\"outlinewidth\": 0, \"ticks\": \"\"}}, \"type\": \"scattermapbox\"}], \"scatterpolar\": [{\"marker\": {\"colorbar\": {\"outlinewidth\": 0, \"ticks\": \"\"}}, \"type\": \"scatterpolar\"}], \"scatterpolargl\": [{\"marker\": {\"colorbar\": {\"outlinewidth\": 0, \"ticks\": \"\"}}, \"type\": \"scatterpolargl\"}], \"scatterternary\": [{\"marker\": {\"colorbar\": {\"outlinewidth\": 0, \"ticks\": \"\"}}, \"type\": \"scatterternary\"}], \"surface\": [{\"colorbar\": {\"outlinewidth\": 0, \"ticks\": \"\"}, \"colorscale\": [[0.0, \"#0d0887\"], [0.1111111111111111, \"#46039f\"], [0.2222222222222222, \"#7201a8\"], [0.3333333333333333, \"#9c179e\"], [0.4444444444444444, \"#bd3786\"], [0.5555555555555556, \"#d8576b\"], [0.6666666666666666, \"#ed7953\"], [0.7777777777777778, \"#fb9f3a\"], [0.8888888888888888, \"#fdca26\"], [1.0, \"#f0f921\"]], \"type\": \"surface\"}], \"table\": [{\"cells\": {\"fill\": {\"color\": \"#EBF0F8\"}, \"line\": {\"color\": \"white\"}}, \"header\": {\"fill\": {\"color\": \"#C8D4E3\"}, \"line\": {\"color\": \"white\"}}, \"type\": \"table\"}]}, \"layout\": {\"annotationdefaults\": {\"arrowcolor\": \"#2a3f5f\", \"arrowhead\": 0, \"arrowwidth\": 1}, \"autotypenumbers\": \"strict\", \"coloraxis\": {\"colorbar\": {\"outlinewidth\": 0, \"ticks\": \"\"}}, \"colorscale\": {\"diverging\": [[0, \"#8e0152\"], [0.1, \"#c51b7d\"], [0.2, \"#de77ae\"], [0.3, \"#f1b6da\"], [0.4, \"#fde0ef\"], [0.5, \"#f7f7f7\"], [0.6, \"#e6f5d0\"], [0.7, \"#b8e186\"], [0.8, \"#7fbc41\"], [0.9, \"#4d9221\"], [1, \"#276419\"]], \"sequential\": [[0.0, \"#0d0887\"], [0.1111111111111111, \"#46039f\"], [0.2222222222222222, \"#7201a8\"], [0.3333333333333333, \"#9c179e\"], [0.4444444444444444, \"#bd3786\"], [0.5555555555555556, \"#d8576b\"], [0.6666666666666666, \"#ed7953\"], [0.7777777777777778, \"#fb9f3a\"], [0.8888888888888888, \"#fdca26\"], [1.0, \"#f0f921\"]], \"sequentialminus\": [[0.0, \"#0d0887\"], [0.1111111111111111, \"#46039f\"], [0.2222222222222222, \"#7201a8\"], [0.3333333333333333, \"#9c179e\"], [0.4444444444444444, \"#bd3786\"], [0.5555555555555556, \"#d8576b\"], [0.6666666666666666, \"#ed7953\"], [0.7777777777777778, \"#fb9f3a\"], [0.8888888888888888, \"#fdca26\"], [1.0, \"#f0f921\"]]}, \"colorway\": [\"#636efa\", \"#EF553B\", \"#00cc96\", \"#ab63fa\", \"#FFA15A\", \"#19d3f3\", \"#FF6692\", \"#B6E880\", \"#FF97FF\", \"#FECB52\"], \"font\": {\"color\": \"#2a3f5f\"}, \"geo\": {\"bgcolor\": \"white\", \"lakecolor\": \"white\", \"landcolor\": \"#E5ECF6\", \"showlakes\": true, \"showland\": true, \"subunitcolor\": \"white\"}, \"hoverlabel\": {\"align\": \"left\"}, \"hovermode\": \"closest\", \"mapbox\": {\"style\": \"light\"}, \"paper_bgcolor\": \"white\", \"plot_bgcolor\": \"#E5ECF6\", \"polar\": {\"angularaxis\": {\"gridcolor\": \"white\", \"linecolor\": \"white\", \"ticks\": \"\"}, \"bgcolor\": \"#E5ECF6\", \"radialaxis\": {\"gridcolor\": \"white\", \"linecolor\": \"white\", \"ticks\": \"\"}}, \"scene\": {\"xaxis\": {\"backgroundcolor\": \"#E5ECF6\", \"gridcolor\": \"white\", \"gridwidth\": 2, \"linecolor\": \"white\", \"showbackground\": true, \"ticks\": \"\", \"zerolinecolor\": \"white\"}, \"yaxis\": {\"backgroundcolor\": \"#E5ECF6\", \"gridcolor\": \"white\", \"gridwidth\": 2, \"linecolor\": \"white\", \"showbackground\": true, \"ticks\": \"\", \"zerolinecolor\": \"white\"}, \"zaxis\": {\"backgroundcolor\": \"#E5ECF6\", \"gridcolor\": \"white\", \"gridwidth\": 2, \"linecolor\": \"white\", \"showbackground\": true, \"ticks\": \"\", \"zerolinecolor\": \"white\"}}, \"shapedefaults\": {\"line\": {\"color\": \"#2a3f5f\"}}, \"ternary\": {\"aaxis\": {\"gridcolor\": \"white\", \"linecolor\": \"white\", \"ticks\": \"\"}, \"baxis\": {\"gridcolor\": \"white\", \"linecolor\": \"white\", \"ticks\": \"\"}, \"bgcolor\": \"#E5ECF6\", \"caxis\": {\"gridcolor\": \"white\", \"linecolor\": \"white\", \"ticks\": \"\"}}, \"title\": {\"x\": 0.05}, \"xaxis\": {\"automargin\": true, \"gridcolor\": \"white\", \"linecolor\": \"white\", \"ticks\": \"\", \"title\": {\"standoff\": 15}, \"zerolinecolor\": \"white\", \"zerolinewidth\": 2}, \"yaxis\": {\"automargin\": true, \"gridcolor\": \"white\", \"linecolor\": \"white\", \"ticks\": \"\", \"title\": {\"standoff\": 15}, \"zerolinecolor\": \"white\", \"zerolinewidth\": 2}}}, \"width\": 900, \"xaxis\": {\"anchor\": \"y\", \"domain\": [0.0, 0.45], \"title\": {\"text\": \"Class\"}}, \"xaxis2\": {\"anchor\": \"y2\", \"domain\": [0.55, 1.0], \"title\": {\"text\": \"Rating\"}}, \"xaxis3\": {\"anchor\": \"y3\", \"domain\": [0.0, 0.45], \"title\": {\"text\": \"Class\"}}, \"xaxis4\": {\"anchor\": \"y4\", \"domain\": [0.55, 1.0], \"title\": {\"text\": \"Rating\"}}, \"yaxis\": {\"anchor\": \"x\", \"domain\": [0.575, 1.0], \"title\": {\"text\": \"Average Rating\"}}, \"yaxis2\": {\"anchor\": \"x2\", \"domain\": [0.575, 1.0], \"title\": {\"text\": \"Count\"}}, \"yaxis3\": {\"anchor\": \"x3\", \"domain\": [0.0, 0.425], \"title\": {\"text\": \"Average Age of the Reviewers\"}}, \"yaxis4\": {\"anchor\": \"x4\", \"domain\": [0.0, 0.425], \"title\": {\"text\": \"Average Age of the Reviewers\"}}},                        {\"responsive\": true}                    ).then(function(){\n",
       "                            \n",
       "var gd = document.getElementById('e4043905-71ed-4317-a3e1-f33d4cb07b40');\n",
       "var x = new MutationObserver(function (mutations, observer) {{\n",
       "        var display = window.getComputedStyle(gd).display;\n",
       "        if (!display || display === 'none') {{\n",
       "            console.log([gd, 'removed!']);\n",
       "            Plotly.purge(gd);\n",
       "            observer.disconnect();\n",
       "        }}\n",
       "}});\n",
       "\n",
       "// Listen for the removal of the full notebook cells\n",
       "var notebookContainer = gd.closest('#notebook-container');\n",
       "if (notebookContainer) {{\n",
       "    x.observe(notebookContainer, {childList: true});\n",
       "}}\n",
       "\n",
       "// Listen for the clearing of the current output cell\n",
       "var outputEl = gd.closest('.output');\n",
       "if (outputEl) {{\n",
       "    x.observe(outputEl, {childList: true});\n",
       "}}\n",
       "\n",
       "                        })                };                });            </script>        </div>"
      ]
     },
     "metadata": {},
     "output_type": "display_data"
    }
   ],
   "source": [
    "fig = tools.make_subplots(rows=2, cols=2, print_grid=False)\n",
    "\n",
    "fig.append_trace(trace1, 1, 1)\n",
    "fig.append_trace(trace2, 1, 2)\n",
    "fig.append_trace(trace3, 2, 1)\n",
    "fig.append_trace(trace4, 2, 2)\n",
    "\n",
    "fig['layout']['xaxis1'].update(title='Class')\n",
    "fig['layout']['yaxis1'].update(title='Average Rating')\n",
    "fig['layout']['xaxis2'].update(title='Rating')\n",
    "fig['layout']['yaxis2'].update(title='Count')\n",
    "fig['layout']['xaxis3'].update(title='Class')\n",
    "fig['layout']['yaxis3'].update(title='Average Age of the Reviewers')\n",
    "fig['layout']['xaxis4'].update(title='Rating')\n",
    "fig['layout']['yaxis4'].update(title='Average Age of the Reviewers')\n",
    "\n",
    "fig['layout'].update(height=800, width=900,showlegend=False)\n",
    "fig.update_layout({'plot_bgcolor':'rgba(0,0,0,0)',\n",
    "                   'paper_bgcolor':'rgba(0,0,0,0)'})\n",
    "#fig['layout'].update(plot_bgcolor='rgba(0,0,0,0)')\n",
    "#fig['layout'].update(paper_bgcolor='rgba(0,0,0,0)')\n",
    "py.iplot(fig)"
   ]
  },
  {
   "cell_type": "markdown",
   "metadata": {},
   "source": [
    "    rating의 경우, 긍정적인 값이 대부분이며 Class Name 별 평균 rating 역시 균일한 편이다. \n",
    "    age의 경우, 캐주얼 하의를 제외한 평균 연령은 유사하며 rating 별 평균 나이는 균일한 편이다."
   ]
  },
  {
   "cell_type": "code",
   "execution_count": 11,
   "metadata": {},
   "outputs": [
    {
     "data": {
      "application/vnd.plotly.v1+json": {
       "config": {
        "linkText": "Export to plot.ly",
        "plotlyServerURL": "https://plot.ly",
        "showLink": false
       },
       "data": [
        {
         "hoverinfo": "text",
         "marker": {
          "color": [
           4.154020019373587,
           4.5,
           4,
           4.150815002373793,
           4.260909090909091,
           4.279220779220779,
           4.295454545454546,
           4.360941586748038,
           4.161676646706587,
           4.376712328767123,
           4.278787878787878,
           4.301013024602026,
           4.198170731707317,
           4.265850144092219,
           4.255520504731861,
           4.245502645502645,
           4.285087719298246,
           4.179271708683474,
           4.1971428571428575,
           3.8151260504201683
          ],
          "size": 10
         },
         "mode": "markers",
         "text": [
          "Class: Blouses \\ Average Rating:  4.15 \\ Number of Reviewers: 3097",
          "Class: Casual bottoms \\ Average Rating:  4.50 \\ Number of Reviewers: 2",
          "Class: Chemises \\ Average Rating:  4.00 \\ Number of Reviewers: 1",
          "Class: Dresses \\ Average Rating:  4.15 \\ Number of Reviewers: 6319",
          "Class: Fine gauge \\ Average Rating:  4.26 \\ Number of Reviewers: 1100",
          "Class: Intimates \\ Average Rating:  4.28 \\ Number of Reviewers: 154",
          "Class: Jackets \\ Average Rating:  4.30 \\ Number of Reviewers: 704",
          "Class: Jeans \\ Average Rating:  4.36 \\ Number of Reviewers: 1147",
          "Class: Knits \\ Average Rating:  4.16 \\ Number of Reviewers: 4843",
          "Class: Layering \\ Average Rating:  4.38 \\ Number of Reviewers: 146",
          "Class: Legwear \\ Average Rating:  4.28 \\ Number of Reviewers: 165",
          "Class: Lounge \\ Average Rating:  4.30 \\ Number of Reviewers: 691",
          "Class: Outerwear \\ Average Rating:  4.20 \\ Number of Reviewers: 328",
          "Class: Pants \\ Average Rating:  4.27 \\ Number of Reviewers: 1388",
          "Class: Shorts \\ Average Rating:  4.26 \\ Number of Reviewers: 317",
          "Class: Skirts \\ Average Rating:  4.25 \\ Number of Reviewers: 945",
          "Class: Sleep \\ Average Rating:  4.29 \\ Number of Reviewers: 228",
          "Class: Sweaters \\ Average Rating:  4.18 \\ Number of Reviewers: 1428",
          "Class: Swim \\ Average Rating:  4.20 \\ Number of Reviewers: 350",
          "Class: Trend \\ Average Rating:  3.82 \\ Number of Reviewers: 119"
         ],
         "type": "scatter3d",
         "x": [
          "Blouses",
          "Casual bottoms",
          "Chemises",
          "Dresses",
          "Fine gauge",
          "Intimates",
          "Jackets",
          "Jeans",
          "Knits",
          "Layering",
          "Legwear",
          "Lounge",
          "Outerwear",
          "Pants",
          "Shorts",
          "Skirts",
          "Sleep",
          "Sweaters",
          "Swim",
          "Trend"
         ],
         "y": [
          4.154020019373587,
          4.5,
          4,
          4.150815002373793,
          4.260909090909091,
          4.279220779220779,
          4.295454545454546,
          4.360941586748038,
          4.161676646706587,
          4.376712328767123,
          4.278787878787878,
          4.301013024602026,
          4.198170731707317,
          4.265850144092219,
          4.255520504731861,
          4.245502645502645,
          4.285087719298246,
          4.179271708683474,
          4.1971428571428575,
          3.8151260504201683
         ],
         "z": [
          3097,
          2,
          1,
          6319,
          1100,
          154,
          704,
          1147,
          4843,
          146,
          165,
          691,
          328,
          1388,
          317,
          945,
          228,
          1428,
          350,
          119
         ]
        }
       ],
       "layout": {
        "margin": {
         "b": 30,
         "l": 30,
         "r": 30,
         "t": 30
        },
        "scene": {
         "xaxis": {
          "title": {
           "text": "Class"
          }
         },
         "yaxis": {
          "title": {
           "text": "Average Rating"
          }
         },
         "zaxis": {
          "title": {
           "text": "Number of Sales"
          }
         }
        },
        "template": {
         "data": {
          "bar": [
           {
            "error_x": {
             "color": "#2a3f5f"
            },
            "error_y": {
             "color": "#2a3f5f"
            },
            "marker": {
             "line": {
              "color": "#E5ECF6",
              "width": 0.5
             }
            },
            "type": "bar"
           }
          ],
          "barpolar": [
           {
            "marker": {
             "line": {
              "color": "#E5ECF6",
              "width": 0.5
             }
            },
            "type": "barpolar"
           }
          ],
          "carpet": [
           {
            "aaxis": {
             "endlinecolor": "#2a3f5f",
             "gridcolor": "white",
             "linecolor": "white",
             "minorgridcolor": "white",
             "startlinecolor": "#2a3f5f"
            },
            "baxis": {
             "endlinecolor": "#2a3f5f",
             "gridcolor": "white",
             "linecolor": "white",
             "minorgridcolor": "white",
             "startlinecolor": "#2a3f5f"
            },
            "type": "carpet"
           }
          ],
          "choropleth": [
           {
            "colorbar": {
             "outlinewidth": 0,
             "ticks": ""
            },
            "type": "choropleth"
           }
          ],
          "contour": [
           {
            "colorbar": {
             "outlinewidth": 0,
             "ticks": ""
            },
            "colorscale": [
             [
              0,
              "#0d0887"
             ],
             [
              0.1111111111111111,
              "#46039f"
             ],
             [
              0.2222222222222222,
              "#7201a8"
             ],
             [
              0.3333333333333333,
              "#9c179e"
             ],
             [
              0.4444444444444444,
              "#bd3786"
             ],
             [
              0.5555555555555556,
              "#d8576b"
             ],
             [
              0.6666666666666666,
              "#ed7953"
             ],
             [
              0.7777777777777778,
              "#fb9f3a"
             ],
             [
              0.8888888888888888,
              "#fdca26"
             ],
             [
              1,
              "#f0f921"
             ]
            ],
            "type": "contour"
           }
          ],
          "contourcarpet": [
           {
            "colorbar": {
             "outlinewidth": 0,
             "ticks": ""
            },
            "type": "contourcarpet"
           }
          ],
          "heatmap": [
           {
            "colorbar": {
             "outlinewidth": 0,
             "ticks": ""
            },
            "colorscale": [
             [
              0,
              "#0d0887"
             ],
             [
              0.1111111111111111,
              "#46039f"
             ],
             [
              0.2222222222222222,
              "#7201a8"
             ],
             [
              0.3333333333333333,
              "#9c179e"
             ],
             [
              0.4444444444444444,
              "#bd3786"
             ],
             [
              0.5555555555555556,
              "#d8576b"
             ],
             [
              0.6666666666666666,
              "#ed7953"
             ],
             [
              0.7777777777777778,
              "#fb9f3a"
             ],
             [
              0.8888888888888888,
              "#fdca26"
             ],
             [
              1,
              "#f0f921"
             ]
            ],
            "type": "heatmap"
           }
          ],
          "heatmapgl": [
           {
            "colorbar": {
             "outlinewidth": 0,
             "ticks": ""
            },
            "colorscale": [
             [
              0,
              "#0d0887"
             ],
             [
              0.1111111111111111,
              "#46039f"
             ],
             [
              0.2222222222222222,
              "#7201a8"
             ],
             [
              0.3333333333333333,
              "#9c179e"
             ],
             [
              0.4444444444444444,
              "#bd3786"
             ],
             [
              0.5555555555555556,
              "#d8576b"
             ],
             [
              0.6666666666666666,
              "#ed7953"
             ],
             [
              0.7777777777777778,
              "#fb9f3a"
             ],
             [
              0.8888888888888888,
              "#fdca26"
             ],
             [
              1,
              "#f0f921"
             ]
            ],
            "type": "heatmapgl"
           }
          ],
          "histogram": [
           {
            "marker": {
             "colorbar": {
              "outlinewidth": 0,
              "ticks": ""
             }
            },
            "type": "histogram"
           }
          ],
          "histogram2d": [
           {
            "colorbar": {
             "outlinewidth": 0,
             "ticks": ""
            },
            "colorscale": [
             [
              0,
              "#0d0887"
             ],
             [
              0.1111111111111111,
              "#46039f"
             ],
             [
              0.2222222222222222,
              "#7201a8"
             ],
             [
              0.3333333333333333,
              "#9c179e"
             ],
             [
              0.4444444444444444,
              "#bd3786"
             ],
             [
              0.5555555555555556,
              "#d8576b"
             ],
             [
              0.6666666666666666,
              "#ed7953"
             ],
             [
              0.7777777777777778,
              "#fb9f3a"
             ],
             [
              0.8888888888888888,
              "#fdca26"
             ],
             [
              1,
              "#f0f921"
             ]
            ],
            "type": "histogram2d"
           }
          ],
          "histogram2dcontour": [
           {
            "colorbar": {
             "outlinewidth": 0,
             "ticks": ""
            },
            "colorscale": [
             [
              0,
              "#0d0887"
             ],
             [
              0.1111111111111111,
              "#46039f"
             ],
             [
              0.2222222222222222,
              "#7201a8"
             ],
             [
              0.3333333333333333,
              "#9c179e"
             ],
             [
              0.4444444444444444,
              "#bd3786"
             ],
             [
              0.5555555555555556,
              "#d8576b"
             ],
             [
              0.6666666666666666,
              "#ed7953"
             ],
             [
              0.7777777777777778,
              "#fb9f3a"
             ],
             [
              0.8888888888888888,
              "#fdca26"
             ],
             [
              1,
              "#f0f921"
             ]
            ],
            "type": "histogram2dcontour"
           }
          ],
          "mesh3d": [
           {
            "colorbar": {
             "outlinewidth": 0,
             "ticks": ""
            },
            "type": "mesh3d"
           }
          ],
          "parcoords": [
           {
            "line": {
             "colorbar": {
              "outlinewidth": 0,
              "ticks": ""
             }
            },
            "type": "parcoords"
           }
          ],
          "pie": [
           {
            "automargin": true,
            "type": "pie"
           }
          ],
          "scatter": [
           {
            "marker": {
             "colorbar": {
              "outlinewidth": 0,
              "ticks": ""
             }
            },
            "type": "scatter"
           }
          ],
          "scatter3d": [
           {
            "line": {
             "colorbar": {
              "outlinewidth": 0,
              "ticks": ""
             }
            },
            "marker": {
             "colorbar": {
              "outlinewidth": 0,
              "ticks": ""
             }
            },
            "type": "scatter3d"
           }
          ],
          "scattercarpet": [
           {
            "marker": {
             "colorbar": {
              "outlinewidth": 0,
              "ticks": ""
             }
            },
            "type": "scattercarpet"
           }
          ],
          "scattergeo": [
           {
            "marker": {
             "colorbar": {
              "outlinewidth": 0,
              "ticks": ""
             }
            },
            "type": "scattergeo"
           }
          ],
          "scattergl": [
           {
            "marker": {
             "colorbar": {
              "outlinewidth": 0,
              "ticks": ""
             }
            },
            "type": "scattergl"
           }
          ],
          "scattermapbox": [
           {
            "marker": {
             "colorbar": {
              "outlinewidth": 0,
              "ticks": ""
             }
            },
            "type": "scattermapbox"
           }
          ],
          "scatterpolar": [
           {
            "marker": {
             "colorbar": {
              "outlinewidth": 0,
              "ticks": ""
             }
            },
            "type": "scatterpolar"
           }
          ],
          "scatterpolargl": [
           {
            "marker": {
             "colorbar": {
              "outlinewidth": 0,
              "ticks": ""
             }
            },
            "type": "scatterpolargl"
           }
          ],
          "scatterternary": [
           {
            "marker": {
             "colorbar": {
              "outlinewidth": 0,
              "ticks": ""
             }
            },
            "type": "scatterternary"
           }
          ],
          "surface": [
           {
            "colorbar": {
             "outlinewidth": 0,
             "ticks": ""
            },
            "colorscale": [
             [
              0,
              "#0d0887"
             ],
             [
              0.1111111111111111,
              "#46039f"
             ],
             [
              0.2222222222222222,
              "#7201a8"
             ],
             [
              0.3333333333333333,
              "#9c179e"
             ],
             [
              0.4444444444444444,
              "#bd3786"
             ],
             [
              0.5555555555555556,
              "#d8576b"
             ],
             [
              0.6666666666666666,
              "#ed7953"
             ],
             [
              0.7777777777777778,
              "#fb9f3a"
             ],
             [
              0.8888888888888888,
              "#fdca26"
             ],
             [
              1,
              "#f0f921"
             ]
            ],
            "type": "surface"
           }
          ],
          "table": [
           {
            "cells": {
             "fill": {
              "color": "#EBF0F8"
             },
             "line": {
              "color": "white"
             }
            },
            "header": {
             "fill": {
              "color": "#C8D4E3"
             },
             "line": {
              "color": "white"
             }
            },
            "type": "table"
           }
          ]
         },
         "layout": {
          "annotationdefaults": {
           "arrowcolor": "#2a3f5f",
           "arrowhead": 0,
           "arrowwidth": 1
          },
          "autotypenumbers": "strict",
          "coloraxis": {
           "colorbar": {
            "outlinewidth": 0,
            "ticks": ""
           }
          },
          "colorscale": {
           "diverging": [
            [
             0,
             "#8e0152"
            ],
            [
             0.1,
             "#c51b7d"
            ],
            [
             0.2,
             "#de77ae"
            ],
            [
             0.3,
             "#f1b6da"
            ],
            [
             0.4,
             "#fde0ef"
            ],
            [
             0.5,
             "#f7f7f7"
            ],
            [
             0.6,
             "#e6f5d0"
            ],
            [
             0.7,
             "#b8e186"
            ],
            [
             0.8,
             "#7fbc41"
            ],
            [
             0.9,
             "#4d9221"
            ],
            [
             1,
             "#276419"
            ]
           ],
           "sequential": [
            [
             0,
             "#0d0887"
            ],
            [
             0.1111111111111111,
             "#46039f"
            ],
            [
             0.2222222222222222,
             "#7201a8"
            ],
            [
             0.3333333333333333,
             "#9c179e"
            ],
            [
             0.4444444444444444,
             "#bd3786"
            ],
            [
             0.5555555555555556,
             "#d8576b"
            ],
            [
             0.6666666666666666,
             "#ed7953"
            ],
            [
             0.7777777777777778,
             "#fb9f3a"
            ],
            [
             0.8888888888888888,
             "#fdca26"
            ],
            [
             1,
             "#f0f921"
            ]
           ],
           "sequentialminus": [
            [
             0,
             "#0d0887"
            ],
            [
             0.1111111111111111,
             "#46039f"
            ],
            [
             0.2222222222222222,
             "#7201a8"
            ],
            [
             0.3333333333333333,
             "#9c179e"
            ],
            [
             0.4444444444444444,
             "#bd3786"
            ],
            [
             0.5555555555555556,
             "#d8576b"
            ],
            [
             0.6666666666666666,
             "#ed7953"
            ],
            [
             0.7777777777777778,
             "#fb9f3a"
            ],
            [
             0.8888888888888888,
             "#fdca26"
            ],
            [
             1,
             "#f0f921"
            ]
           ]
          },
          "colorway": [
           "#636efa",
           "#EF553B",
           "#00cc96",
           "#ab63fa",
           "#FFA15A",
           "#19d3f3",
           "#FF6692",
           "#B6E880",
           "#FF97FF",
           "#FECB52"
          ],
          "font": {
           "color": "#2a3f5f"
          },
          "geo": {
           "bgcolor": "white",
           "lakecolor": "white",
           "landcolor": "#E5ECF6",
           "showlakes": true,
           "showland": true,
           "subunitcolor": "white"
          },
          "hoverlabel": {
           "align": "left"
          },
          "hovermode": "closest",
          "mapbox": {
           "style": "light"
          },
          "paper_bgcolor": "white",
          "plot_bgcolor": "#E5ECF6",
          "polar": {
           "angularaxis": {
            "gridcolor": "white",
            "linecolor": "white",
            "ticks": ""
           },
           "bgcolor": "#E5ECF6",
           "radialaxis": {
            "gridcolor": "white",
            "linecolor": "white",
            "ticks": ""
           }
          },
          "scene": {
           "xaxis": {
            "backgroundcolor": "#E5ECF6",
            "gridcolor": "white",
            "gridwidth": 2,
            "linecolor": "white",
            "showbackground": true,
            "ticks": "",
            "zerolinecolor": "white"
           },
           "yaxis": {
            "backgroundcolor": "#E5ECF6",
            "gridcolor": "white",
            "gridwidth": 2,
            "linecolor": "white",
            "showbackground": true,
            "ticks": "",
            "zerolinecolor": "white"
           },
           "zaxis": {
            "backgroundcolor": "#E5ECF6",
            "gridcolor": "white",
            "gridwidth": 2,
            "linecolor": "white",
            "showbackground": true,
            "ticks": "",
            "zerolinecolor": "white"
           }
          },
          "shapedefaults": {
           "line": {
            "color": "#2a3f5f"
           }
          },
          "ternary": {
           "aaxis": {
            "gridcolor": "white",
            "linecolor": "white",
            "ticks": ""
           },
           "baxis": {
            "gridcolor": "white",
            "linecolor": "white",
            "ticks": ""
           },
           "bgcolor": "#E5ECF6",
           "caxis": {
            "gridcolor": "white",
            "linecolor": "white",
            "ticks": ""
           }
          },
          "title": {
           "x": 0.05
          },
          "xaxis": {
           "automargin": true,
           "gridcolor": "white",
           "linecolor": "white",
           "ticks": "",
           "title": {
            "standoff": 15
           },
           "zerolinecolor": "white",
           "zerolinewidth": 2
          },
          "yaxis": {
           "automargin": true,
           "gridcolor": "white",
           "linecolor": "white",
           "ticks": "",
           "title": {
            "standoff": 15
           },
           "zerolinecolor": "white",
           "zerolinewidth": 2
          }
         }
        },
        "title": {
         "text": "Average Rating & Class & Number of Reviewers"
        }
       }
      },
      "text/html": [
       "<div>                            <div id=\"42b4342f-431f-4900-a092-aca88b1187bf\" class=\"plotly-graph-div\" style=\"height:525px; width:100%;\"></div>            <script type=\"text/javascript\">                require([\"plotly\"], function(Plotly) {                    window.PLOTLYENV=window.PLOTLYENV || {};                                    if (document.getElementById(\"42b4342f-431f-4900-a092-aca88b1187bf\")) {                    Plotly.newPlot(                        \"42b4342f-431f-4900-a092-aca88b1187bf\",                        [{\"hoverinfo\": \"text\", \"marker\": {\"color\": [4.154020019373587, 4.5, 4.0, 4.150815002373793, 4.260909090909091, 4.279220779220779, 4.295454545454546, 4.360941586748038, 4.161676646706587, 4.376712328767123, 4.278787878787878, 4.301013024602026, 4.198170731707317, 4.265850144092219, 4.255520504731861, 4.245502645502645, 4.285087719298246, 4.179271708683474, 4.1971428571428575, 3.8151260504201683], \"size\": 10}, \"mode\": \"markers\", \"text\": [\"Class: Blouses \\\\ Average Rating:  4.15 \\\\ Number of Reviewers: 3097\", \"Class: Casual bottoms \\\\ Average Rating:  4.50 \\\\ Number of Reviewers: 2\", \"Class: Chemises \\\\ Average Rating:  4.00 \\\\ Number of Reviewers: 1\", \"Class: Dresses \\\\ Average Rating:  4.15 \\\\ Number of Reviewers: 6319\", \"Class: Fine gauge \\\\ Average Rating:  4.26 \\\\ Number of Reviewers: 1100\", \"Class: Intimates \\\\ Average Rating:  4.28 \\\\ Number of Reviewers: 154\", \"Class: Jackets \\\\ Average Rating:  4.30 \\\\ Number of Reviewers: 704\", \"Class: Jeans \\\\ Average Rating:  4.36 \\\\ Number of Reviewers: 1147\", \"Class: Knits \\\\ Average Rating:  4.16 \\\\ Number of Reviewers: 4843\", \"Class: Layering \\\\ Average Rating:  4.38 \\\\ Number of Reviewers: 146\", \"Class: Legwear \\\\ Average Rating:  4.28 \\\\ Number of Reviewers: 165\", \"Class: Lounge \\\\ Average Rating:  4.30 \\\\ Number of Reviewers: 691\", \"Class: Outerwear \\\\ Average Rating:  4.20 \\\\ Number of Reviewers: 328\", \"Class: Pants \\\\ Average Rating:  4.27 \\\\ Number of Reviewers: 1388\", \"Class: Shorts \\\\ Average Rating:  4.26 \\\\ Number of Reviewers: 317\", \"Class: Skirts \\\\ Average Rating:  4.25 \\\\ Number of Reviewers: 945\", \"Class: Sleep \\\\ Average Rating:  4.29 \\\\ Number of Reviewers: 228\", \"Class: Sweaters \\\\ Average Rating:  4.18 \\\\ Number of Reviewers: 1428\", \"Class: Swim \\\\ Average Rating:  4.20 \\\\ Number of Reviewers: 350\", \"Class: Trend \\\\ Average Rating:  3.82 \\\\ Number of Reviewers: 119\"], \"type\": \"scatter3d\", \"x\": [\"Blouses\", \"Casual bottoms\", \"Chemises\", \"Dresses\", \"Fine gauge\", \"Intimates\", \"Jackets\", \"Jeans\", \"Knits\", \"Layering\", \"Legwear\", \"Lounge\", \"Outerwear\", \"Pants\", \"Shorts\", \"Skirts\", \"Sleep\", \"Sweaters\", \"Swim\", \"Trend\"], \"y\": [4.154020019373587, 4.5, 4.0, 4.150815002373793, 4.260909090909091, 4.279220779220779, 4.295454545454546, 4.360941586748038, 4.161676646706587, 4.376712328767123, 4.278787878787878, 4.301013024602026, 4.198170731707317, 4.265850144092219, 4.255520504731861, 4.245502645502645, 4.285087719298246, 4.179271708683474, 4.1971428571428575, 3.8151260504201683], \"z\": [3097, 2, 1, 6319, 1100, 154, 704, 1147, 4843, 146, 165, 691, 328, 1388, 317, 945, 228, 1428, 350, 119]}],                        {\"margin\": {\"b\": 30, \"l\": 30, \"r\": 30, \"t\": 30}, \"scene\": {\"xaxis\": {\"title\": {\"text\": \"Class\"}}, \"yaxis\": {\"title\": {\"text\": \"Average Rating\"}}, \"zaxis\": {\"title\": {\"text\": \"Number of Sales\"}}}, \"template\": {\"data\": {\"bar\": [{\"error_x\": {\"color\": \"#2a3f5f\"}, \"error_y\": {\"color\": \"#2a3f5f\"}, \"marker\": {\"line\": {\"color\": \"#E5ECF6\", \"width\": 0.5}}, \"type\": \"bar\"}], \"barpolar\": [{\"marker\": {\"line\": {\"color\": \"#E5ECF6\", \"width\": 0.5}}, \"type\": \"barpolar\"}], \"carpet\": [{\"aaxis\": {\"endlinecolor\": \"#2a3f5f\", \"gridcolor\": \"white\", \"linecolor\": \"white\", \"minorgridcolor\": \"white\", \"startlinecolor\": \"#2a3f5f\"}, \"baxis\": {\"endlinecolor\": \"#2a3f5f\", \"gridcolor\": \"white\", \"linecolor\": \"white\", \"minorgridcolor\": \"white\", \"startlinecolor\": \"#2a3f5f\"}, \"type\": \"carpet\"}], \"choropleth\": [{\"colorbar\": {\"outlinewidth\": 0, \"ticks\": \"\"}, \"type\": \"choropleth\"}], \"contour\": [{\"colorbar\": {\"outlinewidth\": 0, \"ticks\": \"\"}, \"colorscale\": [[0.0, \"#0d0887\"], [0.1111111111111111, \"#46039f\"], [0.2222222222222222, \"#7201a8\"], [0.3333333333333333, \"#9c179e\"], [0.4444444444444444, \"#bd3786\"], [0.5555555555555556, \"#d8576b\"], [0.6666666666666666, \"#ed7953\"], [0.7777777777777778, \"#fb9f3a\"], [0.8888888888888888, \"#fdca26\"], [1.0, \"#f0f921\"]], \"type\": \"contour\"}], \"contourcarpet\": [{\"colorbar\": {\"outlinewidth\": 0, \"ticks\": \"\"}, \"type\": \"contourcarpet\"}], \"heatmap\": [{\"colorbar\": {\"outlinewidth\": 0, \"ticks\": \"\"}, \"colorscale\": [[0.0, \"#0d0887\"], [0.1111111111111111, \"#46039f\"], [0.2222222222222222, \"#7201a8\"], [0.3333333333333333, \"#9c179e\"], [0.4444444444444444, \"#bd3786\"], [0.5555555555555556, \"#d8576b\"], [0.6666666666666666, \"#ed7953\"], [0.7777777777777778, \"#fb9f3a\"], [0.8888888888888888, \"#fdca26\"], [1.0, \"#f0f921\"]], \"type\": \"heatmap\"}], \"heatmapgl\": [{\"colorbar\": {\"outlinewidth\": 0, \"ticks\": \"\"}, \"colorscale\": [[0.0, \"#0d0887\"], [0.1111111111111111, \"#46039f\"], [0.2222222222222222, \"#7201a8\"], [0.3333333333333333, \"#9c179e\"], [0.4444444444444444, \"#bd3786\"], [0.5555555555555556, \"#d8576b\"], [0.6666666666666666, \"#ed7953\"], [0.7777777777777778, \"#fb9f3a\"], [0.8888888888888888, \"#fdca26\"], [1.0, \"#f0f921\"]], \"type\": \"heatmapgl\"}], \"histogram\": [{\"marker\": {\"colorbar\": {\"outlinewidth\": 0, \"ticks\": \"\"}}, \"type\": \"histogram\"}], \"histogram2d\": [{\"colorbar\": {\"outlinewidth\": 0, \"ticks\": \"\"}, \"colorscale\": [[0.0, \"#0d0887\"], [0.1111111111111111, \"#46039f\"], [0.2222222222222222, \"#7201a8\"], [0.3333333333333333, \"#9c179e\"], [0.4444444444444444, \"#bd3786\"], [0.5555555555555556, \"#d8576b\"], [0.6666666666666666, \"#ed7953\"], [0.7777777777777778, \"#fb9f3a\"], [0.8888888888888888, \"#fdca26\"], [1.0, \"#f0f921\"]], \"type\": \"histogram2d\"}], \"histogram2dcontour\": [{\"colorbar\": {\"outlinewidth\": 0, \"ticks\": \"\"}, \"colorscale\": [[0.0, \"#0d0887\"], [0.1111111111111111, \"#46039f\"], [0.2222222222222222, \"#7201a8\"], [0.3333333333333333, \"#9c179e\"], [0.4444444444444444, \"#bd3786\"], [0.5555555555555556, \"#d8576b\"], [0.6666666666666666, \"#ed7953\"], [0.7777777777777778, \"#fb9f3a\"], [0.8888888888888888, \"#fdca26\"], [1.0, \"#f0f921\"]], \"type\": \"histogram2dcontour\"}], \"mesh3d\": [{\"colorbar\": {\"outlinewidth\": 0, \"ticks\": \"\"}, \"type\": \"mesh3d\"}], \"parcoords\": [{\"line\": {\"colorbar\": {\"outlinewidth\": 0, \"ticks\": \"\"}}, \"type\": \"parcoords\"}], \"pie\": [{\"automargin\": true, \"type\": \"pie\"}], \"scatter\": [{\"marker\": {\"colorbar\": {\"outlinewidth\": 0, \"ticks\": \"\"}}, \"type\": \"scatter\"}], \"scatter3d\": [{\"line\": {\"colorbar\": {\"outlinewidth\": 0, \"ticks\": \"\"}}, \"marker\": {\"colorbar\": {\"outlinewidth\": 0, \"ticks\": \"\"}}, \"type\": \"scatter3d\"}], \"scattercarpet\": [{\"marker\": {\"colorbar\": {\"outlinewidth\": 0, \"ticks\": \"\"}}, \"type\": \"scattercarpet\"}], \"scattergeo\": [{\"marker\": {\"colorbar\": {\"outlinewidth\": 0, \"ticks\": \"\"}}, \"type\": \"scattergeo\"}], \"scattergl\": [{\"marker\": {\"colorbar\": {\"outlinewidth\": 0, \"ticks\": \"\"}}, \"type\": \"scattergl\"}], \"scattermapbox\": [{\"marker\": {\"colorbar\": {\"outlinewidth\": 0, \"ticks\": \"\"}}, \"type\": \"scattermapbox\"}], \"scatterpolar\": [{\"marker\": {\"colorbar\": {\"outlinewidth\": 0, \"ticks\": \"\"}}, \"type\": \"scatterpolar\"}], \"scatterpolargl\": [{\"marker\": {\"colorbar\": {\"outlinewidth\": 0, \"ticks\": \"\"}}, \"type\": \"scatterpolargl\"}], \"scatterternary\": [{\"marker\": {\"colorbar\": {\"outlinewidth\": 0, \"ticks\": \"\"}}, \"type\": \"scatterternary\"}], \"surface\": [{\"colorbar\": {\"outlinewidth\": 0, \"ticks\": \"\"}, \"colorscale\": [[0.0, \"#0d0887\"], [0.1111111111111111, \"#46039f\"], [0.2222222222222222, \"#7201a8\"], [0.3333333333333333, \"#9c179e\"], [0.4444444444444444, \"#bd3786\"], [0.5555555555555556, \"#d8576b\"], [0.6666666666666666, \"#ed7953\"], [0.7777777777777778, \"#fb9f3a\"], [0.8888888888888888, \"#fdca26\"], [1.0, \"#f0f921\"]], \"type\": \"surface\"}], \"table\": [{\"cells\": {\"fill\": {\"color\": \"#EBF0F8\"}, \"line\": {\"color\": \"white\"}}, \"header\": {\"fill\": {\"color\": \"#C8D4E3\"}, \"line\": {\"color\": \"white\"}}, \"type\": \"table\"}]}, \"layout\": {\"annotationdefaults\": {\"arrowcolor\": \"#2a3f5f\", \"arrowhead\": 0, \"arrowwidth\": 1}, \"autotypenumbers\": \"strict\", \"coloraxis\": {\"colorbar\": {\"outlinewidth\": 0, \"ticks\": \"\"}}, \"colorscale\": {\"diverging\": [[0, \"#8e0152\"], [0.1, \"#c51b7d\"], [0.2, \"#de77ae\"], [0.3, \"#f1b6da\"], [0.4, \"#fde0ef\"], [0.5, \"#f7f7f7\"], [0.6, \"#e6f5d0\"], [0.7, \"#b8e186\"], [0.8, \"#7fbc41\"], [0.9, \"#4d9221\"], [1, \"#276419\"]], \"sequential\": [[0.0, \"#0d0887\"], [0.1111111111111111, \"#46039f\"], [0.2222222222222222, \"#7201a8\"], [0.3333333333333333, \"#9c179e\"], [0.4444444444444444, \"#bd3786\"], [0.5555555555555556, \"#d8576b\"], [0.6666666666666666, \"#ed7953\"], [0.7777777777777778, \"#fb9f3a\"], [0.8888888888888888, \"#fdca26\"], [1.0, \"#f0f921\"]], \"sequentialminus\": [[0.0, \"#0d0887\"], [0.1111111111111111, \"#46039f\"], [0.2222222222222222, \"#7201a8\"], [0.3333333333333333, \"#9c179e\"], [0.4444444444444444, \"#bd3786\"], [0.5555555555555556, \"#d8576b\"], [0.6666666666666666, \"#ed7953\"], [0.7777777777777778, \"#fb9f3a\"], [0.8888888888888888, \"#fdca26\"], [1.0, \"#f0f921\"]]}, \"colorway\": [\"#636efa\", \"#EF553B\", \"#00cc96\", \"#ab63fa\", \"#FFA15A\", \"#19d3f3\", \"#FF6692\", \"#B6E880\", \"#FF97FF\", \"#FECB52\"], \"font\": {\"color\": \"#2a3f5f\"}, \"geo\": {\"bgcolor\": \"white\", \"lakecolor\": \"white\", \"landcolor\": \"#E5ECF6\", \"showlakes\": true, \"showland\": true, \"subunitcolor\": \"white\"}, \"hoverlabel\": {\"align\": \"left\"}, \"hovermode\": \"closest\", \"mapbox\": {\"style\": \"light\"}, \"paper_bgcolor\": \"white\", \"plot_bgcolor\": \"#E5ECF6\", \"polar\": {\"angularaxis\": {\"gridcolor\": \"white\", \"linecolor\": \"white\", \"ticks\": \"\"}, \"bgcolor\": \"#E5ECF6\", \"radialaxis\": {\"gridcolor\": \"white\", \"linecolor\": \"white\", \"ticks\": \"\"}}, \"scene\": {\"xaxis\": {\"backgroundcolor\": \"#E5ECF6\", \"gridcolor\": \"white\", \"gridwidth\": 2, \"linecolor\": \"white\", \"showbackground\": true, \"ticks\": \"\", \"zerolinecolor\": \"white\"}, \"yaxis\": {\"backgroundcolor\": \"#E5ECF6\", \"gridcolor\": \"white\", \"gridwidth\": 2, \"linecolor\": \"white\", \"showbackground\": true, \"ticks\": \"\", \"zerolinecolor\": \"white\"}, \"zaxis\": {\"backgroundcolor\": \"#E5ECF6\", \"gridcolor\": \"white\", \"gridwidth\": 2, \"linecolor\": \"white\", \"showbackground\": true, \"ticks\": \"\", \"zerolinecolor\": \"white\"}}, \"shapedefaults\": {\"line\": {\"color\": \"#2a3f5f\"}}, \"ternary\": {\"aaxis\": {\"gridcolor\": \"white\", \"linecolor\": \"white\", \"ticks\": \"\"}, \"baxis\": {\"gridcolor\": \"white\", \"linecolor\": \"white\", \"ticks\": \"\"}, \"bgcolor\": \"#E5ECF6\", \"caxis\": {\"gridcolor\": \"white\", \"linecolor\": \"white\", \"ticks\": \"\"}}, \"title\": {\"x\": 0.05}, \"xaxis\": {\"automargin\": true, \"gridcolor\": \"white\", \"linecolor\": \"white\", \"ticks\": \"\", \"title\": {\"standoff\": 15}, \"zerolinecolor\": \"white\", \"zerolinewidth\": 2}, \"yaxis\": {\"automargin\": true, \"gridcolor\": \"white\", \"linecolor\": \"white\", \"ticks\": \"\", \"title\": {\"standoff\": 15}, \"zerolinecolor\": \"white\", \"zerolinewidth\": 2}}}, \"title\": {\"text\": \"Average Rating & Class & Number of Reviewers\"}},                        {\"responsive\": true}                    ).then(function(){\n",
       "                            \n",
       "var gd = document.getElementById('42b4342f-431f-4900-a092-aca88b1187bf');\n",
       "var x = new MutationObserver(function (mutations, observer) {{\n",
       "        var display = window.getComputedStyle(gd).display;\n",
       "        if (!display || display === 'none') {{\n",
       "            console.log([gd, 'removed!']);\n",
       "            Plotly.purge(gd);\n",
       "            observer.disconnect();\n",
       "        }}\n",
       "}});\n",
       "\n",
       "// Listen for the removal of the full notebook cells\n",
       "var notebookContainer = gd.closest('#notebook-container');\n",
       "if (notebookContainer) {{\n",
       "    x.observe(notebookContainer, {childList: true});\n",
       "}}\n",
       "\n",
       "// Listen for the clearing of the current output cell\n",
       "var outputEl = gd.closest('.output');\n",
       "if (outputEl) {{\n",
       "    x.observe(outputEl, {childList: true});\n",
       "}}\n",
       "\n",
       "                        })                };                });            </script>        </div>"
      ]
     },
     "metadata": {},
     "output_type": "display_data"
    },
    {
     "data": {
      "text/plain": [
       "<Figure size 432x288 with 0 Axes>"
      ]
     },
     "metadata": {},
     "output_type": "display_data"
    }
   ],
   "source": [
    "cv = df['Class Name'].value_counts()\n",
    "\n",
    "trace = go.Scatter3d( x = avgdf1.index,\n",
    "                      y = avgdf1['Rating'],\n",
    "                      z = cv[avgdf1.index],\n",
    "                      mode = 'markers',\n",
    "                      marker = dict(size=10,color=avgdf1['Rating']),\n",
    "                      hoverinfo =\"text\",\n",
    "                      text=\"Class: \"+avgdf1.index+\" \\ Average Rating: \"+avgdf1['Rating'].map(' {:,.2f}'.format).apply(str)+\" \\ Number of Reviewers: \"+cv[avgdf1.index].apply(str)\n",
    "                      )\n",
    "\n",
    "data = [trace]\n",
    "layout = go.Layout(title=\"Average Rating & Class & Number of Reviewers\",\n",
    "                   scene = dict(\n",
    "                    xaxis = dict(title='Class'),\n",
    "                    yaxis = dict(title='Average Rating'),\n",
    "                    zaxis = dict(title='Number of Sales'),),\n",
    "                   margin = dict(l=30, r=30, b=30, t=30))\n",
    "fig = go.Figure(data=data, layout=layout)\n",
    "py.iplot(fig)\n",
    "plt.savefig('3D_Scatter.png')"
   ]
  },
  {
   "cell_type": "markdown",
   "metadata": {},
   "source": [
    "---\n",
    "### 감정 분석\n",
    "    rating 기반, 긍정/부정 column 생성. 이때, normal한 평점 3은 포함하지 않음"
   ]
  },
  {
   "cell_type": "code",
   "execution_count": 13,
   "metadata": {},
   "outputs": [
    {
     "data": {
      "text/html": [
       "<div>\n",
       "<style scoped>\n",
       "    .dataframe tbody tr th:only-of-type {\n",
       "        vertical-align: middle;\n",
       "    }\n",
       "\n",
       "    .dataframe tbody tr th {\n",
       "        vertical-align: top;\n",
       "    }\n",
       "\n",
       "    .dataframe thead th {\n",
       "        text-align: right;\n",
       "    }\n",
       "</style>\n",
       "<table border=\"1\" class=\"dataframe\">\n",
       "  <thead>\n",
       "    <tr style=\"text-align: right;\">\n",
       "      <th></th>\n",
       "      <th>Review Text</th>\n",
       "      <th>Rating</th>\n",
       "      <th>Class Name</th>\n",
       "      <th>Age</th>\n",
       "      <th>Word Counts</th>\n",
       "      <th>Sentiment</th>\n",
       "    </tr>\n",
       "  </thead>\n",
       "  <tbody>\n",
       "    <tr>\n",
       "      <th>0</th>\n",
       "      <td>Absolutely wonderful - silky and sexy and comf...</td>\n",
       "      <td>4</td>\n",
       "      <td>Intimates</td>\n",
       "      <td>33</td>\n",
       "      <td>{'absolutely': 1, 'and': 2, 'comfortable': 1, ...</td>\n",
       "      <td>True</td>\n",
       "    </tr>\n",
       "    <tr>\n",
       "      <th>1</th>\n",
       "      <td>Love this dress!  it's sooo pretty.  i happene...</td>\n",
       "      <td>5</td>\n",
       "      <td>Dresses</td>\n",
       "      <td>34</td>\n",
       "      <td>{'am': 1, 'and': 2, 'bc': 2, 'be': 1, 'below':...</td>\n",
       "      <td>True</td>\n",
       "    </tr>\n",
       "    <tr>\n",
       "      <th>3</th>\n",
       "      <td>I love, love, love this jumpsuit. it's fun, fl...</td>\n",
       "      <td>5</td>\n",
       "      <td>Pants</td>\n",
       "      <td>50</td>\n",
       "      <td>{'and': 1, 'but': 1, 'compliments': 1, 'every'...</td>\n",
       "      <td>True</td>\n",
       "    </tr>\n",
       "    <tr>\n",
       "      <th>4</th>\n",
       "      <td>This shirt is very flattering to all due to th...</td>\n",
       "      <td>5</td>\n",
       "      <td>Blouses</td>\n",
       "      <td>47</td>\n",
       "      <td>{'adjustable': 1, 'all': 1, 'and': 1, 'any': 1...</td>\n",
       "      <td>True</td>\n",
       "    </tr>\n",
       "    <tr>\n",
       "      <th>5</th>\n",
       "      <td>I love tracy reese dresses, but this one is no...</td>\n",
       "      <td>2</td>\n",
       "      <td>Dresses</td>\n",
       "      <td>49</td>\n",
       "      <td>{'0p': 1, 'alterations': 1, 'am': 1, 'and': 4,...</td>\n",
       "      <td>False</td>\n",
       "    </tr>\n",
       "  </tbody>\n",
       "</table>\n",
       "</div>"
      ],
      "text/plain": [
       "                                         Review Text  Rating Class Name  Age  \\\n",
       "0  Absolutely wonderful - silky and sexy and comf...       4  Intimates   33   \n",
       "1  Love this dress!  it's sooo pretty.  i happene...       5    Dresses   34   \n",
       "3  I love, love, love this jumpsuit. it's fun, fl...       5      Pants   50   \n",
       "4  This shirt is very flattering to all due to th...       5    Blouses   47   \n",
       "5  I love tracy reese dresses, but this one is no...       2    Dresses   49   \n",
       "\n",
       "                                         Word Counts  Sentiment  \n",
       "0  {'absolutely': 1, 'and': 2, 'comfortable': 1, ...       True  \n",
       "1  {'am': 1, 'and': 2, 'bc': 2, 'be': 1, 'below':...       True  \n",
       "3  {'and': 1, 'but': 1, 'compliments': 1, 'every'...       True  \n",
       "4  {'adjustable': 1, 'all': 1, 'and': 1, 'any': 1...       True  \n",
       "5  {'0p': 1, 'alterations': 1, 'am': 1, 'and': 4,...      False  "
      ]
     },
     "execution_count": 13,
     "metadata": {},
     "output_type": "execute_result"
    }
   ],
   "source": [
    "# Rating of 4 or higher -> positive, while the ones with \n",
    "# Rating of 2 or lower -> negative \n",
    "# Rating of 3 -> neutral\n",
    "df = df[df['Rating'] != 3]\n",
    "df['Sentiment'] = df['Rating'] >=4\n",
    "df.head()"
   ]
  },
  {
   "cell_type": "code",
   "execution_count": 14,
   "metadata": {},
   "outputs": [],
   "source": [
    "# split data\n",
    "train_data,test_data = train_test_split(df,train_size=0.8,random_state=0)\n",
    "# select the columns and \n",
    "# prepare data for the models \n",
    "X_train = vectorizer.fit_transform(train_data['Review Text'])\n",
    "y_train = train_data['Sentiment']\n",
    "X_test = vectorizer.transform(test_data['Review Text'])\n",
    "y_test = test_data['Sentiment']"
   ]
  },
  {
   "cell_type": "markdown",
   "metadata": {},
   "source": [
    "---\n",
    "### Modeling\n",
    "#### 1. LogisticRegression"
   ]
  },
  {
   "cell_type": "code",
   "execution_count": 18,
   "metadata": {},
   "outputs": [
    {
     "name": "stdout",
     "output_type": "stream",
     "text": [
      "경과 시간 (Elapsed time):  0:00:00.475870\n"
     ]
    }
   ],
   "source": [
    "start=dt.datetime.now()\n",
    "lr = LogisticRegression()\n",
    "lr.fit(X_train,y_train)\n",
    "print('경과 시간 (Elapsed time): ',str(dt.datetime.now()-start))"
   ]
  },
  {
   "cell_type": "markdown",
   "metadata": {},
   "source": [
    "#### 2. NaiveBayes"
   ]
  },
  {
   "cell_type": "code",
   "execution_count": 19,
   "metadata": {},
   "outputs": [
    {
     "name": "stdout",
     "output_type": "stream",
     "text": [
      "경과 시간 (Elapsed time):  0:00:00.005984\n"
     ]
    }
   ],
   "source": [
    "start=dt.datetime.now()\n",
    "nb = MultinomialNB()\n",
    "nb.fit(X_train,y_train)\n",
    "print('경과 시간 (Elapsed time): ',str(dt.datetime.now()-start))"
   ]
  },
  {
   "cell_type": "markdown",
   "metadata": {},
   "source": [
    "#### 3. Support Vectoer Machine (SVM)"
   ]
  },
  {
   "cell_type": "code",
   "execution_count": 20,
   "metadata": {},
   "outputs": [
    {
     "name": "stdout",
     "output_type": "stream",
     "text": [
      "경과 시간 (Elapsed time):  0:00:35.441175\n"
     ]
    }
   ],
   "source": [
    "start=dt.datetime.now()\n",
    "svm = SVC()  #분류 모델이므로 svc\n",
    "svm.fit(X_train,y_train)\n",
    "print('경과 시간 (Elapsed time): ',str(dt.datetime.now()-start))"
   ]
  },
  {
   "cell_type": "markdown",
   "metadata": {},
   "source": [
    "#### 4. Neural Network"
   ]
  },
  {
   "cell_type": "code",
   "execution_count": 21,
   "metadata": {},
   "outputs": [
    {
     "name": "stdout",
     "output_type": "stream",
     "text": [
      "경과 시간 (Elapsed time):  0:05:10.878859\n"
     ]
    }
   ],
   "source": [
    "start=dt.datetime.now()\n",
    "nn = MLPClassifier()\n",
    "nn.fit(X_train,y_train)\n",
    "print('경과 시간 (Elapsed time): ',str(dt.datetime.now()-start))"
   ]
  },
  {
   "cell_type": "markdown",
   "metadata": {},
   "source": [
    "    경과 시간을 확인한 결과, LogisticRegression과 NaiveBaes의 성능이 월등히 좋다."
   ]
  },
  {
   "cell_type": "markdown",
   "metadata": {},
   "source": [
    "---\n",
    "### Predict"
   ]
  },
  {
   "cell_type": "code",
   "execution_count": 22,
   "metadata": {},
   "outputs": [
    {
     "data": {
      "text/html": [
       "<div>\n",
       "<style scoped>\n",
       "    .dataframe tbody tr th:only-of-type {\n",
       "        vertical-align: middle;\n",
       "    }\n",
       "\n",
       "    .dataframe tbody tr th {\n",
       "        vertical-align: top;\n",
       "    }\n",
       "\n",
       "    .dataframe thead th {\n",
       "        text-align: right;\n",
       "    }\n",
       "</style>\n",
       "<table border=\"1\" class=\"dataframe\">\n",
       "  <thead>\n",
       "    <tr style=\"text-align: right;\">\n",
       "      <th></th>\n",
       "      <th>Review Text</th>\n",
       "      <th>Rating</th>\n",
       "      <th>Class Name</th>\n",
       "      <th>Age</th>\n",
       "      <th>Word Counts</th>\n",
       "      <th>Sentiment</th>\n",
       "      <th>Logistic Regression</th>\n",
       "      <th>Naive Bayes</th>\n",
       "      <th>SVM</th>\n",
       "      <th>Neural Network</th>\n",
       "    </tr>\n",
       "  </thead>\n",
       "  <tbody>\n",
       "    <tr>\n",
       "      <th>19218</th>\n",
       "      <td>I love this dress's gentle blue lace. the silh...</td>\n",
       "      <td>5</td>\n",
       "      <td>Dresses</td>\n",
       "      <td>35</td>\n",
       "      <td>{'and': 1, 'as': 1, 'blue': 1, 'chest': 1, 'dr...</td>\n",
       "      <td>True</td>\n",
       "      <td>True</td>\n",
       "      <td>True</td>\n",
       "      <td>True</td>\n",
       "      <td>True</td>\n",
       "    </tr>\n",
       "    <tr>\n",
       "      <th>3530</th>\n",
       "      <td>Beautiful choice...beautiful fit for my daught...</td>\n",
       "      <td>5</td>\n",
       "      <td>Knits</td>\n",
       "      <td>51</td>\n",
       "      <td>{'beautiful': 2, 'body': 1, 'choice': 1, 'daug...</td>\n",
       "      <td>True</td>\n",
       "      <td>True</td>\n",
       "      <td>True</td>\n",
       "      <td>True</td>\n",
       "      <td>True</td>\n",
       "    </tr>\n",
       "    <tr>\n",
       "      <th>15663</th>\n",
       "      <td>If you are shaped anything like me, you will h...</td>\n",
       "      <td>4</td>\n",
       "      <td>Dresses</td>\n",
       "      <td>25</td>\n",
       "      <td>{'am': 1, 'and': 2, 'anything': 1, 'are': 1, '...</td>\n",
       "      <td>True</td>\n",
       "      <td>True</td>\n",
       "      <td>True</td>\n",
       "      <td>True</td>\n",
       "      <td>True</td>\n",
       "    </tr>\n",
       "    <tr>\n",
       "      <th>21310</th>\n",
       "      <td>This top is so cute and of spectacular quality...</td>\n",
       "      <td>5</td>\n",
       "      <td>Blouses</td>\n",
       "      <td>33</td>\n",
       "      <td>{'10': 1, '34c': 1, 'all': 1, 'almost': 1, 'an...</td>\n",
       "      <td>True</td>\n",
       "      <td>True</td>\n",
       "      <td>True</td>\n",
       "      <td>True</td>\n",
       "      <td>True</td>\n",
       "    </tr>\n",
       "    <tr>\n",
       "      <th>15154</th>\n",
       "      <td>First saw this poncho on a petite blog and aft...</td>\n",
       "      <td>5</td>\n",
       "      <td>Sweaters</td>\n",
       "      <td>56</td>\n",
       "      <td>{'after': 1, 'and': 5, 'below': 1, 'blog': 1, ...</td>\n",
       "      <td>True</td>\n",
       "      <td>True</td>\n",
       "      <td>True</td>\n",
       "      <td>True</td>\n",
       "      <td>True</td>\n",
       "    </tr>\n",
       "  </tbody>\n",
       "</table>\n",
       "</div>"
      ],
      "text/plain": [
       "                                             Review Text  Rating Class Name  \\\n",
       "19218  I love this dress's gentle blue lace. the silh...       5    Dresses   \n",
       "3530   Beautiful choice...beautiful fit for my daught...       5      Knits   \n",
       "15663  If you are shaped anything like me, you will h...       4    Dresses   \n",
       "21310  This top is so cute and of spectacular quality...       5    Blouses   \n",
       "15154  First saw this poncho on a petite blog and aft...       5   Sweaters   \n",
       "\n",
       "       Age                                        Word Counts  Sentiment  \\\n",
       "19218   35  {'and': 1, 'as': 1, 'blue': 1, 'chest': 1, 'dr...       True   \n",
       "3530    51  {'beautiful': 2, 'body': 1, 'choice': 1, 'daug...       True   \n",
       "15663   25  {'am': 1, 'and': 2, 'anything': 1, 'are': 1, '...       True   \n",
       "21310   33  {'10': 1, '34c': 1, 'all': 1, 'almost': 1, 'an...       True   \n",
       "15154   56  {'after': 1, 'and': 5, 'below': 1, 'blog': 1, ...       True   \n",
       "\n",
       "       Logistic Regression  Naive Bayes   SVM  Neural Network  \n",
       "19218                 True         True  True            True  \n",
       "3530                  True         True  True            True  \n",
       "15663                 True         True  True            True  \n",
       "21310                 True         True  True            True  \n",
       "15154                 True         True  True            True  "
      ]
     },
     "execution_count": 22,
     "metadata": {},
     "output_type": "execute_result"
    }
   ],
   "source": [
    "# define a dataframe for the predictions\n",
    "df2 = train_data.copy()\n",
    "df2['Logistic Regression'] = lr.predict(X_train)\n",
    "df2['Naive Bayes'] = nb.predict(X_train)\n",
    "df2['SVM'] = svm.predict(X_train)\n",
    "df2['Neural Network'] = nn.predict(X_train)\n",
    "\n",
    "df2.head()"
   ]
  },
  {
   "cell_type": "markdown",
   "metadata": {},
   "source": [
    "---\n",
    "### Model Metric\n",
    "#### 1. ROC curve + AUC"
   ]
  },
  {
   "cell_type": "code",
   "execution_count": 23,
   "metadata": {},
   "outputs": [],
   "source": [
    "pred_lr = lr.predict_proba(X_test)[:,1]\n",
    "fpr_lr,tpr_lr,_ = roc_curve(y_test,pred_lr)\n",
    "roc_auc_lr = auc(fpr_lr,tpr_lr)\n",
    "\n",
    "pred_nb = nb.predict_proba(X_test)[:,1]\n",
    "fpr_nb,tpr_nb,_ = roc_curve(y_test.values,pred_nb)\n",
    "roc_auc_nb = auc(fpr_nb,tpr_nb)\n",
    "\n",
    "pred_svm = svm.decision_function(X_test)\n",
    "fpr_svm,tpr_svm,_ = roc_curve(y_test.values,pred_svm)\n",
    "roc_auc_svm = auc(fpr_svm,tpr_svm)\n",
    "\n",
    "pred_nn = nn.predict_proba(X_test)[:,1]\n",
    "fpr_nn,tpr_nn,_ = roc_curve(y_test.values,pred_nn)\n",
    "roc_auc_nn = auc(fpr_nn,tpr_nn)"
   ]
  },
  {
   "cell_type": "code",
   "execution_count": 24,
   "metadata": {},
   "outputs": [
    {
     "data": {
      "image/png": "[encoded data removed]",
      "text/plain": [
       "<Figure size 1080x720 with 4 Axes>"
      ]
     },
     "metadata": {
      "needs_background": "light"
     },
     "output_type": "display_data"
    }
   ],
   "source": [
    "f, axes = plt.subplots(2, 2,figsize=(15,10))\n",
    "axes[0,0].plot(fpr_lr, tpr_lr, color='darkred', lw=2, label='ROC curve (area = {:0.2f})'.format(roc_auc_lr))\n",
    "axes[0,0].plot([0, 1], [0, 1], color='navy', lw=2, linestyle='--')\n",
    "axes[0,0].set(xlim=[-0.01, 1.0], ylim=[-0.01, 1.05])\n",
    "axes[0,0].set(xlabel ='False Positive Rate', ylabel = 'True Positive Rate', title = 'Logistic Regression')\n",
    "axes[0,0].legend(loc='lower right', fontsize=13)\n",
    "\n",
    "axes[0,1].plot(fpr_nb, tpr_nb, color='darkred', lw=2, label='ROC curve (area = {:0.2f})'.format(roc_auc_nb))\n",
    "axes[0,1].plot([0, 1], [0, 1], color='navy', lw=2, linestyle='--')\n",
    "axes[0,1].set(xlim=[-0.01, 1.0], ylim=[-0.01, 1.05])\n",
    "axes[0,1].set(xlabel ='False Positive Rate', ylabel = 'True Positive Rate', title = 'Naive Bayes')\n",
    "axes[0,1].legend(loc='lower right', fontsize=13)\n",
    "\n",
    "axes[1,0].plot(fpr_svm, tpr_svm, color='darkred', lw=2, label='ROC curve (area = {:0.2f})'.format(roc_auc_svm))\n",
    "axes[1,0].plot([0, 1], [0, 1], color='navy', lw=2, linestyle='--')\n",
    "axes[1,0].set(xlim=[-0.01, 1.0], ylim=[-0.01, 1.05])\n",
    "axes[1,0].set(xlabel ='False Positive Rate', ylabel = 'True Positive Rate', title = 'Support Vector Machine')\n",
    "axes[1,0].legend(loc='lower right', fontsize=13)\n",
    "\n",
    "axes[1,1].plot(fpr_nn, tpr_nn, color='darkred', lw=2, label='ROC curve (area = {:0.2f})'.format(roc_auc_nn))\n",
    "axes[1,1].plot([0, 1], [0, 1], color='navy', lw=2, linestyle='--')\n",
    "axes[1,1].set(xlim=[-0.01, 1.0], ylim=[-0.01, 1.05])\n",
    "axes[1,1].set(xlabel ='False Positive Rate', ylabel = 'True Positive Rate', title = 'Neural Network')\n",
    "axes[1,1].legend(loc='lower right', fontsize=13);"
   ]
  },
  {
   "cell_type": "markdown",
   "metadata": {},
   "source": [
    "#### 2. Confusion Matrix"
   ]
  },
  {
   "cell_type": "code",
   "execution_count": 25,
   "metadata": {},
   "outputs": [],
   "source": [
    "# preparation for the confusion matrix\n",
    "lr_cm=confusion_matrix(y_test.values, lr.predict(X_test))\n",
    "nb_cm=confusion_matrix(y_test.values, nb.predict(X_test))\n",
    "svm_cm=confusion_matrix(y_test.values, svm.predict(X_test))\n",
    "nn_cm=confusion_matrix(y_test.values, nn.predict(X_test))"
   ]
  },
  {
   "cell_type": "code",
   "execution_count": 26,
   "metadata": {},
   "outputs": [
    {
     "data": {
      "image/png": "[encoded data removed]",
      "text/plain": [
       "<Figure size 1080x864 with 4 Axes>"
      ]
     },
     "metadata": {
      "needs_background": "light"
     },
     "output_type": "display_data"
    }
   ],
   "source": [
    "plt.figure(figsize=(15,12))\n",
    "plt.suptitle(\"Confusion Matrices\",fontsize=24)\n",
    "\n",
    "plt.subplot(2,2,1)\n",
    "plt.title(\"Logistic Regression\")\n",
    "sns.heatmap(lr_cm, annot = True, cmap=\"Greens\",cbar=False);\n",
    "\n",
    "plt.subplot(2,2,2)\n",
    "plt.title(\"Naive Bayes\")\n",
    "sns.heatmap(nb_cm, annot = True, cmap=\"Greens\",cbar=False);\n",
    "\n",
    "plt.subplot(2,2,3)\n",
    "plt.title(\"Support Vector Machine (SVM)\")\n",
    "sns.heatmap(svm_cm, annot = True, cmap=\"Greens\",cbar=False);\n",
    "\n",
    "plt.subplot(2,2,4)\n",
    "plt.title(\"Neural Network\")\n",
    "sns.heatmap(nn_cm, annot = True, cmap=\"Greens\",cbar=False);"
   ]
  },
  {
   "cell_type": "markdown",
   "metadata": {},
   "source": [
    "#### 3. Precison + Recall + F1 Score"
   ]
  },
  {
   "cell_type": "code",
   "execution_count": 27,
   "metadata": {},
   "outputs": [
    {
     "name": "stdout",
     "output_type": "stream",
     "text": [
      "Logistic Regression\n",
      "              precision    recall  f1-score   support\n",
      "\n",
      "       False       0.78      0.64      0.70       458\n",
      "        True       0.96      0.98      0.97      3665\n",
      "\n",
      "    accuracy                           0.94      4123\n",
      "   macro avg       0.87      0.81      0.83      4123\n",
      "weighted avg       0.94      0.94      0.94      4123\n",
      "\n",
      "\n",
      " Naive Bayes\n",
      "              precision    recall  f1-score   support\n",
      "\n",
      "       False       0.79      0.65      0.71       458\n",
      "        True       0.96      0.98      0.97      3665\n",
      "\n",
      "    accuracy                           0.94      4123\n",
      "   macro avg       0.87      0.82      0.84      4123\n",
      "weighted avg       0.94      0.94      0.94      4123\n",
      "\n",
      "\n",
      " Support Vector Machine (SVM)\n",
      "              precision    recall  f1-score   support\n",
      "\n",
      "       False       0.83      0.45      0.59       458\n",
      "        True       0.94      0.99      0.96      3665\n",
      "\n",
      "    accuracy                           0.93      4123\n",
      "   macro avg       0.88      0.72      0.77      4123\n",
      "weighted avg       0.92      0.93      0.92      4123\n",
      "\n",
      "\n",
      " Neural Network\n",
      "              precision    recall  f1-score   support\n",
      "\n",
      "       False       0.72      0.65      0.68       458\n",
      "        True       0.96      0.97      0.96      3665\n",
      "\n",
      "    accuracy                           0.93      4123\n",
      "   macro avg       0.84      0.81      0.82      4123\n",
      "weighted avg       0.93      0.93      0.93      4123\n",
      "\n"
     ]
    }
   ],
   "source": [
    "print(\"Logistic Regression\")\n",
    "print(mt.classification_report(y_test, lr.predict(X_test)))\n",
    "print(\"\\n Naive Bayes\")\n",
    "print(mt.classification_report(y_test, nb.predict(X_test)))\n",
    "print(\"\\n Support Vector Machine (SVM)\")\n",
    "print(mt.classification_report(y_test, svm.predict(X_test)))\n",
    "print(\"\\n Neural Network\")\n",
    "print(mt.classification_report(y_test, nn.predict(X_test)))"
   ]
  },
  {
   "cell_type": "markdown",
   "metadata": {},
   "source": [
    "    LogisticRegression과 NaiveBayes 모델의 예측력이 가장 높다. "
   ]
  }
 ],
 "metadata": {
  "kernelspec": {
   "display_name": "Python 3",
   "language": "python",
   "name": "python3"
  },
  "language_info": {
   "codemirror_mode": {
    "name": "ipython",
    "version": 3
   },
   "file_extension": ".py",
   "mimetype": "text/x-python",
   "name": "python",
   "nbconvert_exporter": "python",
   "pygments_lexer": "ipython3",
   "version": "3.7.6"
  }
 },
 "nbformat": 4,
 "nbformat_minor": 4
}
